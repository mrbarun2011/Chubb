{
 "cells": [
  {
   "cell_type": "markdown",
   "metadata": {},
   "source": [
    "Your task is to build a claim frequency model that takes as input the attributes of a single property (state, square footage and building age) and outputs the expected number of claims for that building _per unit of exposure_. We would like you to use 1,000 square feet as your unit of exposure. Therefore, if a building is 2,000 square feet, then it corresponds to 2 units of exposure. If your model outputs 3.23 for this building, it will mean that you predict that, on average, this building will generate 6.46 claims per year. "
   ]
  },
  {
   "cell_type": "markdown",
   "metadata": {},
   "source": [
    "Importing all the three Data files:\n",
    "1) For importing claim data you need to have pyarrow on the system, please refer the environment file"
   ]
  },
  {
   "cell_type": "code",
   "execution_count": 74,
   "metadata": {},
   "outputs": [],
   "source": [
    "import pandas as pd\n",
    "import numpy as np\n"
   ]
  },
  {
   "cell_type": "code",
   "execution_count": 21,
   "metadata": {},
   "outputs": [],
   "source": [
    "df_policy= pd.read_excel('../policies_10272021.xlsx')\n",
    "df_property=pd.read_csv('../properties_10272021.csv')\n",
    "df_claim=pd.read_parquet('../claims_10272021.parquet',engine='pyarrow')"
   ]
  },
  {
   "cell_type": "code",
   "execution_count": 22,
   "metadata": {},
   "outputs": [
    {
     "data": {
      "text/html": [
       "<div>\n",
       "<style scoped>\n",
       "    .dataframe tbody tr th:only-of-type {\n",
       "        vertical-align: middle;\n",
       "    }\n",
       "\n",
       "    .dataframe tbody tr th {\n",
       "        vertical-align: top;\n",
       "    }\n",
       "\n",
       "    .dataframe thead th {\n",
       "        text-align: right;\n",
       "    }\n",
       "</style>\n",
       "<table border=\"1\" class=\"dataframe\">\n",
       "  <thead>\n",
       "    <tr style=\"text-align: right;\">\n",
       "      <th></th>\n",
       "      <th>pol</th>\n",
       "      <th>start</th>\n",
       "      <th>end</th>\n",
       "    </tr>\n",
       "  </thead>\n",
       "  <tbody>\n",
       "    <tr>\n",
       "      <th>0</th>\n",
       "      <td>11bb0dd0</td>\n",
       "      <td>4Jun.2018</td>\n",
       "      <td>4Jun.2019</td>\n",
       "    </tr>\n",
       "    <tr>\n",
       "      <th>1</th>\n",
       "      <td>96a3c554</td>\n",
       "      <td>25Jan2017</td>\n",
       "      <td>25Jan2018</td>\n",
       "    </tr>\n",
       "    <tr>\n",
       "      <th>2</th>\n",
       "      <td>35a90ece</td>\n",
       "      <td>26Oct2018</td>\n",
       "      <td>26Oct2019</td>\n",
       "    </tr>\n",
       "    <tr>\n",
       "      <th>3</th>\n",
       "      <td>6d034563</td>\n",
       "      <td>3Aug.2017</td>\n",
       "      <td>3Aug.2018</td>\n",
       "    </tr>\n",
       "    <tr>\n",
       "      <th>4</th>\n",
       "      <td>c70d089a</td>\n",
       "      <td>28Nov.2017</td>\n",
       "      <td>28Nov.2018</td>\n",
       "    </tr>\n",
       "  </tbody>\n",
       "</table>\n",
       "</div>"
      ],
      "text/plain": [
       "        pol       start         end\n",
       "0  11bb0dd0   4Jun.2018   4Jun.2019\n",
       "1  96a3c554   25Jan2017   25Jan2018\n",
       "2  35a90ece   26Oct2018   26Oct2019\n",
       "3  6d034563   3Aug.2017   3Aug.2018\n",
       "4  c70d089a  28Nov.2017  28Nov.2018"
      ]
     },
     "execution_count": 22,
     "metadata": {},
     "output_type": "execute_result"
    }
   ],
   "source": [
    "df_policy.head()"
   ]
  },
  {
   "cell_type": "code",
   "execution_count": 23,
   "metadata": {},
   "outputs": [
    {
     "name": "stdout",
     "output_type": "stream",
     "text": [
      "<class 'pandas.core.frame.DataFrame'>\n",
      "RangeIndex: 1760 entries, 0 to 1759\n",
      "Data columns (total 3 columns):\n",
      " #   Column  Non-Null Count  Dtype \n",
      "---  ------  --------------  ----- \n",
      " 0   pol     1760 non-null   object\n",
      " 1   start   1760 non-null   object\n",
      " 2   end     1760 non-null   object\n",
      "dtypes: object(3)\n",
      "memory usage: 41.4+ KB\n"
     ]
    }
   ],
   "source": [
    "df_pol.info()"
   ]
  },
  {
   "cell_type": "markdown",
   "metadata": {},
   "source": [
    "Policy dataset has three columns (policy number and start and end date) . It doesn't have any null values "
   ]
  },
  {
   "cell_type": "code",
   "execution_count": 24,
   "metadata": {},
   "outputs": [
    {
     "data": {
      "text/html": [
       "<div>\n",
       "<style scoped>\n",
       "    .dataframe tbody tr th:only-of-type {\n",
       "        vertical-align: middle;\n",
       "    }\n",
       "\n",
       "    .dataframe tbody tr th {\n",
       "        vertical-align: top;\n",
       "    }\n",
       "\n",
       "    .dataframe thead th {\n",
       "        text-align: right;\n",
       "    }\n",
       "</style>\n",
       "<table border=\"1\" class=\"dataframe\">\n",
       "  <thead>\n",
       "    <tr style=\"text-align: right;\">\n",
       "      <th></th>\n",
       "      <th>prop_id</th>\n",
       "      <th>pol</th>\n",
       "      <th>state</th>\n",
       "      <th>sqft</th>\n",
       "      <th>age</th>\n",
       "    </tr>\n",
       "  </thead>\n",
       "  <tbody>\n",
       "    <tr>\n",
       "      <th>0</th>\n",
       "      <td>7019</td>\n",
       "      <td>0152f838</td>\n",
       "      <td>OH</td>\n",
       "      <td>10876</td>\n",
       "      <td>67</td>\n",
       "    </tr>\n",
       "    <tr>\n",
       "      <th>1</th>\n",
       "      <td>8025</td>\n",
       "      <td>604b4377</td>\n",
       "      <td>AZ</td>\n",
       "      <td>87946</td>\n",
       "      <td>95</td>\n",
       "    </tr>\n",
       "    <tr>\n",
       "      <th>2</th>\n",
       "      <td>5766</td>\n",
       "      <td>b7007f67</td>\n",
       "      <td>FL</td>\n",
       "      <td>57978</td>\n",
       "      <td>13</td>\n",
       "    </tr>\n",
       "    <tr>\n",
       "      <th>3</th>\n",
       "      <td>6120</td>\n",
       "      <td>bae6a6d7</td>\n",
       "      <td>AZ</td>\n",
       "      <td>89202</td>\n",
       "      <td>53</td>\n",
       "    </tr>\n",
       "    <tr>\n",
       "      <th>4</th>\n",
       "      <td>1468</td>\n",
       "      <td>a5916966</td>\n",
       "      <td>AZ</td>\n",
       "      <td>35934</td>\n",
       "      <td>29</td>\n",
       "    </tr>\n",
       "  </tbody>\n",
       "</table>\n",
       "</div>"
      ],
      "text/plain": [
       "   prop_id       pol state   sqft  age\n",
       "0     7019  0152f838    OH  10876   67\n",
       "1     8025  604b4377    AZ  87946   95\n",
       "2     5766  b7007f67    FL  57978   13\n",
       "3     6120  bae6a6d7    AZ  89202   53\n",
       "4     1468  a5916966    AZ  35934   29"
      ]
     },
     "execution_count": 24,
     "metadata": {},
     "output_type": "execute_result"
    }
   ],
   "source": [
    "df_property.head()"
   ]
  },
  {
   "cell_type": "code",
   "execution_count": 25,
   "metadata": {},
   "outputs": [
    {
     "name": "stdout",
     "output_type": "stream",
     "text": [
      "<class 'pandas.core.frame.DataFrame'>\n",
      "RangeIndex: 8413 entries, 0 to 8412\n",
      "Data columns (total 5 columns):\n",
      " #   Column   Non-Null Count  Dtype \n",
      "---  ------   --------------  ----- \n",
      " 0   prop_id  8413 non-null   int64 \n",
      " 1   pol      8413 non-null   object\n",
      " 2   state    8413 non-null   object\n",
      " 3   sqft     8413 non-null   int64 \n",
      " 4   age      8413 non-null   int64 \n",
      "dtypes: int64(3), object(2)\n",
      "memory usage: 328.8+ KB\n"
     ]
    }
   ],
   "source": [
    "df_property.info()"
   ]
  },
  {
   "cell_type": "markdown",
   "metadata": {},
   "source": [
    "Policy dataset has 5 columns (property id, policy number, state, sqrt and age). It doesn't have any null values"
   ]
  },
  {
   "cell_type": "code",
   "execution_count": 26,
   "metadata": {},
   "outputs": [
    {
     "data": {
      "text/html": [
       "<div>\n",
       "<style scoped>\n",
       "    .dataframe tbody tr th:only-of-type {\n",
       "        vertical-align: middle;\n",
       "    }\n",
       "\n",
       "    .dataframe tbody tr th {\n",
       "        vertical-align: top;\n",
       "    }\n",
       "\n",
       "    .dataframe thead th {\n",
       "        text-align: right;\n",
       "    }\n",
       "</style>\n",
       "<table border=\"1\" class=\"dataframe\">\n",
       "  <thead>\n",
       "    <tr style=\"text-align: right;\">\n",
       "      <th></th>\n",
       "      <th>pol</th>\n",
       "      <th>property</th>\n",
       "      <th>start_date</th>\n",
       "      <th>amount</th>\n",
       "    </tr>\n",
       "  </thead>\n",
       "  <tbody>\n",
       "    <tr>\n",
       "      <th>0</th>\n",
       "      <td>0152f838</td>\n",
       "      <td>7019</td>\n",
       "      <td>25Oct2018</td>\n",
       "      <td>157866.849557</td>\n",
       "    </tr>\n",
       "    <tr>\n",
       "      <th>1</th>\n",
       "      <td>0152f838</td>\n",
       "      <td>7019</td>\n",
       "      <td>25Oct2018</td>\n",
       "      <td>918867.179064</td>\n",
       "    </tr>\n",
       "    <tr>\n",
       "      <th>2</th>\n",
       "      <td>0152f838</td>\n",
       "      <td>7019</td>\n",
       "      <td>25Oct2018</td>\n",
       "      <td>128602.395049</td>\n",
       "    </tr>\n",
       "    <tr>\n",
       "      <th>3</th>\n",
       "      <td>0152f838</td>\n",
       "      <td>7019</td>\n",
       "      <td>25Oct2018</td>\n",
       "      <td>447153.652892</td>\n",
       "    </tr>\n",
       "    <tr>\n",
       "      <th>4</th>\n",
       "      <td>0152f838</td>\n",
       "      <td>7019</td>\n",
       "      <td>25Oct2018</td>\n",
       "      <td>221691.940430</td>\n",
       "    </tr>\n",
       "  </tbody>\n",
       "</table>\n",
       "</div>"
      ],
      "text/plain": [
       "        pol  property start_date         amount\n",
       "0  0152f838      7019  25Oct2018  157866.849557\n",
       "1  0152f838      7019  25Oct2018  918867.179064\n",
       "2  0152f838      7019  25Oct2018  128602.395049\n",
       "3  0152f838      7019  25Oct2018  447153.652892\n",
       "4  0152f838      7019  25Oct2018  221691.940430"
      ]
     },
     "execution_count": 26,
     "metadata": {},
     "output_type": "execute_result"
    }
   ],
   "source": [
    "df_claim.head()"
   ]
  },
  {
   "cell_type": "code",
   "execution_count": 27,
   "metadata": {},
   "outputs": [
    {
     "name": "stdout",
     "output_type": "stream",
     "text": [
      "<class 'pandas.core.frame.DataFrame'>\n",
      "RangeIndex: 62565 entries, 0 to 62564\n",
      "Data columns (total 4 columns):\n",
      " #   Column      Non-Null Count  Dtype  \n",
      "---  ------      --------------  -----  \n",
      " 0   pol         62565 non-null  object \n",
      " 1   property    62565 non-null  int64  \n",
      " 2   start_date  62565 non-null  object \n",
      " 3   amount      62565 non-null  float64\n",
      "dtypes: float64(1), int64(1), object(2)\n",
      "memory usage: 1.9+ MB\n"
     ]
    }
   ],
   "source": [
    "df_claim.info()"
   ]
  },
  {
   "cell_type": "markdown",
   "metadata": {},
   "source": [
    "df_claim has 4 columns,pol number, property id, start date and amount, no null values"
   ]
  },
  {
   "cell_type": "markdown",
   "metadata": {},
   "source": [
    "Claim dataset is our main dataset from where we can get the claim details, I will try to add other details from policy and property dataset\n",
    "\n",
    "\n",
    "1) First join Property dataset to Claim \n",
    "2) secondly I will try to join policy dataset to Claim"
   ]
  },
  {
   "cell_type": "code",
   "execution_count": 17,
   "metadata": {},
   "outputs": [
    {
     "data": {
      "text/plain": [
       "Index(['property', 'pol', 'state', 'sqft', 'age'], dtype='object')"
      ]
     },
     "execution_count": 17,
     "metadata": {},
     "output_type": "execute_result"
    }
   ],
   "source": [
    "df_property.columns"
   ]
  },
  {
   "cell_type": "code",
   "execution_count": 39,
   "metadata": {},
   "outputs": [],
   "source": [
    "df_merge=pd.merge(df_claim, df_property,  how='left', left_on=['property'], right_on = ['prop_id'])"
   ]
  },
  {
   "cell_type": "code",
   "execution_count": 40,
   "metadata": {},
   "outputs": [
    {
     "data": {
      "text/html": [
       "<div>\n",
       "<style scoped>\n",
       "    .dataframe tbody tr th:only-of-type {\n",
       "        vertical-align: middle;\n",
       "    }\n",
       "\n",
       "    .dataframe tbody tr th {\n",
       "        vertical-align: top;\n",
       "    }\n",
       "\n",
       "    .dataframe thead th {\n",
       "        text-align: right;\n",
       "    }\n",
       "</style>\n",
       "<table border=\"1\" class=\"dataframe\">\n",
       "  <thead>\n",
       "    <tr style=\"text-align: right;\">\n",
       "      <th></th>\n",
       "      <th>pol_x</th>\n",
       "      <th>property</th>\n",
       "      <th>start_date</th>\n",
       "      <th>amount</th>\n",
       "      <th>prop_id</th>\n",
       "      <th>pol_y</th>\n",
       "      <th>state</th>\n",
       "      <th>sqft</th>\n",
       "      <th>age</th>\n",
       "    </tr>\n",
       "  </thead>\n",
       "  <tbody>\n",
       "    <tr>\n",
       "      <th>0</th>\n",
       "      <td>0152f838</td>\n",
       "      <td>7019</td>\n",
       "      <td>25Oct2018</td>\n",
       "      <td>157866.849557</td>\n",
       "      <td>7019</td>\n",
       "      <td>0152f838</td>\n",
       "      <td>OH</td>\n",
       "      <td>10876</td>\n",
       "      <td>67</td>\n",
       "    </tr>\n",
       "    <tr>\n",
       "      <th>1</th>\n",
       "      <td>0152f838</td>\n",
       "      <td>7019</td>\n",
       "      <td>25Oct2018</td>\n",
       "      <td>918867.179064</td>\n",
       "      <td>7019</td>\n",
       "      <td>0152f838</td>\n",
       "      <td>OH</td>\n",
       "      <td>10876</td>\n",
       "      <td>67</td>\n",
       "    </tr>\n",
       "    <tr>\n",
       "      <th>2</th>\n",
       "      <td>0152f838</td>\n",
       "      <td>7019</td>\n",
       "      <td>25Oct2018</td>\n",
       "      <td>128602.395049</td>\n",
       "      <td>7019</td>\n",
       "      <td>0152f838</td>\n",
       "      <td>OH</td>\n",
       "      <td>10876</td>\n",
       "      <td>67</td>\n",
       "    </tr>\n",
       "    <tr>\n",
       "      <th>3</th>\n",
       "      <td>0152f838</td>\n",
       "      <td>7019</td>\n",
       "      <td>25Oct2018</td>\n",
       "      <td>447153.652892</td>\n",
       "      <td>7019</td>\n",
       "      <td>0152f838</td>\n",
       "      <td>OH</td>\n",
       "      <td>10876</td>\n",
       "      <td>67</td>\n",
       "    </tr>\n",
       "    <tr>\n",
       "      <th>4</th>\n",
       "      <td>0152f838</td>\n",
       "      <td>7019</td>\n",
       "      <td>25Oct2018</td>\n",
       "      <td>221691.940430</td>\n",
       "      <td>7019</td>\n",
       "      <td>0152f838</td>\n",
       "      <td>OH</td>\n",
       "      <td>10876</td>\n",
       "      <td>67</td>\n",
       "    </tr>\n",
       "  </tbody>\n",
       "</table>\n",
       "</div>"
      ],
      "text/plain": [
       "      pol_x  property start_date         amount  prop_id     pol_y state  \\\n",
       "0  0152f838      7019  25Oct2018  157866.849557     7019  0152f838    OH   \n",
       "1  0152f838      7019  25Oct2018  918867.179064     7019  0152f838    OH   \n",
       "2  0152f838      7019  25Oct2018  128602.395049     7019  0152f838    OH   \n",
       "3  0152f838      7019  25Oct2018  447153.652892     7019  0152f838    OH   \n",
       "4  0152f838      7019  25Oct2018  221691.940430     7019  0152f838    OH   \n",
       "\n",
       "    sqft  age  \n",
       "0  10876   67  \n",
       "1  10876   67  \n",
       "2  10876   67  \n",
       "3  10876   67  \n",
       "4  10876   67  "
      ]
     },
     "execution_count": 40,
     "metadata": {},
     "output_type": "execute_result"
    }
   ],
   "source": [
    "df_merge.head()"
   ]
  },
  {
   "cell_type": "code",
   "execution_count": 41,
   "metadata": {},
   "outputs": [],
   "source": [
    "df_merge=df_merge.drop(['pol_y','prop_id'],axis=1)"
   ]
  },
  {
   "cell_type": "code",
   "execution_count": 42,
   "metadata": {},
   "outputs": [
    {
     "data": {
      "text/plain": [
       "(62565, 7)"
      ]
     },
     "execution_count": 42,
     "metadata": {},
     "output_type": "execute_result"
    }
   ],
   "source": [
    "df_merge.shape"
   ]
  },
  {
   "cell_type": "code",
   "execution_count": 43,
   "metadata": {},
   "outputs": [],
   "source": [
    "df_merge = pd.merge(df_merge, df_policy,  how='left', left_on=['pol_x','start_date'], right_on = ['pol','start'])"
   ]
  },
  {
   "cell_type": "code",
   "execution_count": 44,
   "metadata": {},
   "outputs": [
    {
     "data": {
      "text/html": [
       "<div>\n",
       "<style scoped>\n",
       "    .dataframe tbody tr th:only-of-type {\n",
       "        vertical-align: middle;\n",
       "    }\n",
       "\n",
       "    .dataframe tbody tr th {\n",
       "        vertical-align: top;\n",
       "    }\n",
       "\n",
       "    .dataframe thead th {\n",
       "        text-align: right;\n",
       "    }\n",
       "</style>\n",
       "<table border=\"1\" class=\"dataframe\">\n",
       "  <thead>\n",
       "    <tr style=\"text-align: right;\">\n",
       "      <th></th>\n",
       "      <th>pol_x</th>\n",
       "      <th>property</th>\n",
       "      <th>start_date</th>\n",
       "      <th>amount</th>\n",
       "      <th>state</th>\n",
       "      <th>sqft</th>\n",
       "      <th>age</th>\n",
       "      <th>pol</th>\n",
       "      <th>start</th>\n",
       "      <th>end</th>\n",
       "    </tr>\n",
       "  </thead>\n",
       "  <tbody>\n",
       "    <tr>\n",
       "      <th>0</th>\n",
       "      <td>0152f838</td>\n",
       "      <td>7019</td>\n",
       "      <td>25Oct2018</td>\n",
       "      <td>157866.849557</td>\n",
       "      <td>OH</td>\n",
       "      <td>10876</td>\n",
       "      <td>67</td>\n",
       "      <td>0152f838</td>\n",
       "      <td>25Oct2018</td>\n",
       "      <td>25Oct2019</td>\n",
       "    </tr>\n",
       "    <tr>\n",
       "      <th>1</th>\n",
       "      <td>0152f838</td>\n",
       "      <td>7019</td>\n",
       "      <td>25Oct2018</td>\n",
       "      <td>918867.179064</td>\n",
       "      <td>OH</td>\n",
       "      <td>10876</td>\n",
       "      <td>67</td>\n",
       "      <td>0152f838</td>\n",
       "      <td>25Oct2018</td>\n",
       "      <td>25Oct2019</td>\n",
       "    </tr>\n",
       "    <tr>\n",
       "      <th>2</th>\n",
       "      <td>0152f838</td>\n",
       "      <td>7019</td>\n",
       "      <td>25Oct2018</td>\n",
       "      <td>128602.395049</td>\n",
       "      <td>OH</td>\n",
       "      <td>10876</td>\n",
       "      <td>67</td>\n",
       "      <td>0152f838</td>\n",
       "      <td>25Oct2018</td>\n",
       "      <td>25Oct2019</td>\n",
       "    </tr>\n",
       "    <tr>\n",
       "      <th>3</th>\n",
       "      <td>0152f838</td>\n",
       "      <td>7019</td>\n",
       "      <td>25Oct2018</td>\n",
       "      <td>447153.652892</td>\n",
       "      <td>OH</td>\n",
       "      <td>10876</td>\n",
       "      <td>67</td>\n",
       "      <td>0152f838</td>\n",
       "      <td>25Oct2018</td>\n",
       "      <td>25Oct2019</td>\n",
       "    </tr>\n",
       "    <tr>\n",
       "      <th>4</th>\n",
       "      <td>0152f838</td>\n",
       "      <td>7019</td>\n",
       "      <td>25Oct2018</td>\n",
       "      <td>221691.940430</td>\n",
       "      <td>OH</td>\n",
       "      <td>10876</td>\n",
       "      <td>67</td>\n",
       "      <td>0152f838</td>\n",
       "      <td>25Oct2018</td>\n",
       "      <td>25Oct2019</td>\n",
       "    </tr>\n",
       "  </tbody>\n",
       "</table>\n",
       "</div>"
      ],
      "text/plain": [
       "      pol_x  property start_date         amount state   sqft  age       pol  \\\n",
       "0  0152f838      7019  25Oct2018  157866.849557    OH  10876   67  0152f838   \n",
       "1  0152f838      7019  25Oct2018  918867.179064    OH  10876   67  0152f838   \n",
       "2  0152f838      7019  25Oct2018  128602.395049    OH  10876   67  0152f838   \n",
       "3  0152f838      7019  25Oct2018  447153.652892    OH  10876   67  0152f838   \n",
       "4  0152f838      7019  25Oct2018  221691.940430    OH  10876   67  0152f838   \n",
       "\n",
       "       start        end  \n",
       "0  25Oct2018  25Oct2019  \n",
       "1  25Oct2018  25Oct2019  \n",
       "2  25Oct2018  25Oct2019  \n",
       "3  25Oct2018  25Oct2019  \n",
       "4  25Oct2018  25Oct2019  "
      ]
     },
     "execution_count": 44,
     "metadata": {},
     "output_type": "execute_result"
    }
   ],
   "source": [
    "df_merge.head()"
   ]
  },
  {
   "cell_type": "code",
   "execution_count": 45,
   "metadata": {},
   "outputs": [],
   "source": [
    "# dropping columns which are not required for furthr processing \n",
    "df_merge=df_merge.drop(['pol_x','start_date','pol','start','end'],axis=1)"
   ]
  },
  {
   "cell_type": "code",
   "execution_count": 46,
   "metadata": {},
   "outputs": [
    {
     "data": {
      "text/html": [
       "<div>\n",
       "<style scoped>\n",
       "    .dataframe tbody tr th:only-of-type {\n",
       "        vertical-align: middle;\n",
       "    }\n",
       "\n",
       "    .dataframe tbody tr th {\n",
       "        vertical-align: top;\n",
       "    }\n",
       "\n",
       "    .dataframe thead th {\n",
       "        text-align: right;\n",
       "    }\n",
       "</style>\n",
       "<table border=\"1\" class=\"dataframe\">\n",
       "  <thead>\n",
       "    <tr style=\"text-align: right;\">\n",
       "      <th></th>\n",
       "      <th>property</th>\n",
       "      <th>amount</th>\n",
       "      <th>state</th>\n",
       "      <th>sqft</th>\n",
       "      <th>age</th>\n",
       "    </tr>\n",
       "  </thead>\n",
       "  <tbody>\n",
       "    <tr>\n",
       "      <th>0</th>\n",
       "      <td>7019</td>\n",
       "      <td>157866.849557</td>\n",
       "      <td>OH</td>\n",
       "      <td>10876</td>\n",
       "      <td>67</td>\n",
       "    </tr>\n",
       "    <tr>\n",
       "      <th>1</th>\n",
       "      <td>7019</td>\n",
       "      <td>918867.179064</td>\n",
       "      <td>OH</td>\n",
       "      <td>10876</td>\n",
       "      <td>67</td>\n",
       "    </tr>\n",
       "    <tr>\n",
       "      <th>2</th>\n",
       "      <td>7019</td>\n",
       "      <td>128602.395049</td>\n",
       "      <td>OH</td>\n",
       "      <td>10876</td>\n",
       "      <td>67</td>\n",
       "    </tr>\n",
       "    <tr>\n",
       "      <th>3</th>\n",
       "      <td>7019</td>\n",
       "      <td>447153.652892</td>\n",
       "      <td>OH</td>\n",
       "      <td>10876</td>\n",
       "      <td>67</td>\n",
       "    </tr>\n",
       "    <tr>\n",
       "      <th>4</th>\n",
       "      <td>7019</td>\n",
       "      <td>221691.940430</td>\n",
       "      <td>OH</td>\n",
       "      <td>10876</td>\n",
       "      <td>67</td>\n",
       "    </tr>\n",
       "  </tbody>\n",
       "</table>\n",
       "</div>"
      ],
      "text/plain": [
       "   property         amount state   sqft  age\n",
       "0      7019  157866.849557    OH  10876   67\n",
       "1      7019  918867.179064    OH  10876   67\n",
       "2      7019  128602.395049    OH  10876   67\n",
       "3      7019  447153.652892    OH  10876   67\n",
       "4      7019  221691.940430    OH  10876   67"
      ]
     },
     "execution_count": 46,
     "metadata": {},
     "output_type": "execute_result"
    }
   ],
   "source": [
    "df_merge.head()"
   ]
  },
  {
   "cell_type": "code",
   "execution_count": 47,
   "metadata": {},
   "outputs": [
    {
     "data": {
      "text/html": [
       "<div>\n",
       "<style scoped>\n",
       "    .dataframe tbody tr th:only-of-type {\n",
       "        vertical-align: middle;\n",
       "    }\n",
       "\n",
       "    .dataframe tbody tr th {\n",
       "        vertical-align: top;\n",
       "    }\n",
       "\n",
       "    .dataframe thead th {\n",
       "        text-align: right;\n",
       "    }\n",
       "</style>\n",
       "<table border=\"1\" class=\"dataframe\">\n",
       "  <thead>\n",
       "    <tr style=\"text-align: right;\">\n",
       "      <th></th>\n",
       "      <th></th>\n",
       "      <th></th>\n",
       "      <th></th>\n",
       "      <th>amount</th>\n",
       "    </tr>\n",
       "    <tr>\n",
       "      <th>property</th>\n",
       "      <th>state</th>\n",
       "      <th>sqft</th>\n",
       "      <th>age</th>\n",
       "      <th></th>\n",
       "    </tr>\n",
       "  </thead>\n",
       "  <tbody>\n",
       "    <tr>\n",
       "      <th>0</th>\n",
       "      <th>AZ</th>\n",
       "      <th>88972</th>\n",
       "      <th>83</th>\n",
       "      <td>13</td>\n",
       "    </tr>\n",
       "    <tr>\n",
       "      <th>1</th>\n",
       "      <th>OH</th>\n",
       "      <th>43434</th>\n",
       "      <th>11</th>\n",
       "      <td>11</td>\n",
       "    </tr>\n",
       "    <tr>\n",
       "      <th>2</th>\n",
       "      <th>FL</th>\n",
       "      <th>66035</th>\n",
       "      <th>8</th>\n",
       "      <td>9</td>\n",
       "    </tr>\n",
       "    <tr>\n",
       "      <th>3</th>\n",
       "      <th>AZ</th>\n",
       "      <th>18145</th>\n",
       "      <th>59</th>\n",
       "      <td>12</td>\n",
       "    </tr>\n",
       "    <tr>\n",
       "      <th>4</th>\n",
       "      <th>AZ</th>\n",
       "      <th>74404</th>\n",
       "      <th>50</th>\n",
       "      <td>9</td>\n",
       "    </tr>\n",
       "    <tr>\n",
       "      <th>...</th>\n",
       "      <th>...</th>\n",
       "      <th>...</th>\n",
       "      <th>...</th>\n",
       "      <td>...</td>\n",
       "    </tr>\n",
       "    <tr>\n",
       "      <th>8408</th>\n",
       "      <th>OH</th>\n",
       "      <th>65374</th>\n",
       "      <th>39</th>\n",
       "      <td>18</td>\n",
       "    </tr>\n",
       "    <tr>\n",
       "      <th>8409</th>\n",
       "      <th>AZ</th>\n",
       "      <th>84879</th>\n",
       "      <th>45</th>\n",
       "      <td>2</td>\n",
       "    </tr>\n",
       "    <tr>\n",
       "      <th>8410</th>\n",
       "      <th>AZ</th>\n",
       "      <th>65986</th>\n",
       "      <th>25</th>\n",
       "      <td>8</td>\n",
       "    </tr>\n",
       "    <tr>\n",
       "      <th>8411</th>\n",
       "      <th>OH</th>\n",
       "      <th>16746</th>\n",
       "      <th>85</th>\n",
       "      <td>22</td>\n",
       "    </tr>\n",
       "    <tr>\n",
       "      <th>8412</th>\n",
       "      <th>AZ</th>\n",
       "      <th>24166</th>\n",
       "      <th>47</th>\n",
       "      <td>8</td>\n",
       "    </tr>\n",
       "  </tbody>\n",
       "</table>\n",
       "<p>8209 rows × 1 columns</p>\n",
       "</div>"
      ],
      "text/plain": [
       "                          amount\n",
       "property state sqft  age        \n",
       "0        AZ    88972 83       13\n",
       "1        OH    43434 11       11\n",
       "2        FL    66035 8         9\n",
       "3        AZ    18145 59       12\n",
       "4        AZ    74404 50        9\n",
       "...                          ...\n",
       "8408     OH    65374 39       18\n",
       "8409     AZ    84879 45        2\n",
       "8410     AZ    65986 25        8\n",
       "8411     OH    16746 85       22\n",
       "8412     AZ    24166 47        8\n",
       "\n",
       "[8209 rows x 1 columns]"
      ]
     },
     "execution_count": 47,
     "metadata": {},
     "output_type": "execute_result"
    }
   ],
   "source": [
    "# calculating the claims for each property \n",
    "df_merge.groupby(['property','state','sqft','age']).count()"
   ]
  },
  {
   "cell_type": "code",
   "execution_count": 48,
   "metadata": {},
   "outputs": [],
   "source": [
    "df_final=pd.DataFrame(df_merge.groupby(['property','state','sqft','age']).count())\n",
    "df_final=df_final.reset_index()"
   ]
  },
  {
   "cell_type": "code",
   "execution_count": 49,
   "metadata": {},
   "outputs": [
    {
     "data": {
      "text/html": [
       "<div>\n",
       "<style scoped>\n",
       "    .dataframe tbody tr th:only-of-type {\n",
       "        vertical-align: middle;\n",
       "    }\n",
       "\n",
       "    .dataframe tbody tr th {\n",
       "        vertical-align: top;\n",
       "    }\n",
       "\n",
       "    .dataframe thead th {\n",
       "        text-align: right;\n",
       "    }\n",
       "</style>\n",
       "<table border=\"1\" class=\"dataframe\">\n",
       "  <thead>\n",
       "    <tr style=\"text-align: right;\">\n",
       "      <th></th>\n",
       "      <th>property</th>\n",
       "      <th>state</th>\n",
       "      <th>sqft</th>\n",
       "      <th>age</th>\n",
       "      <th>amount</th>\n",
       "    </tr>\n",
       "  </thead>\n",
       "  <tbody>\n",
       "    <tr>\n",
       "      <th>0</th>\n",
       "      <td>0</td>\n",
       "      <td>AZ</td>\n",
       "      <td>88972</td>\n",
       "      <td>83</td>\n",
       "      <td>13</td>\n",
       "    </tr>\n",
       "    <tr>\n",
       "      <th>1</th>\n",
       "      <td>1</td>\n",
       "      <td>OH</td>\n",
       "      <td>43434</td>\n",
       "      <td>11</td>\n",
       "      <td>11</td>\n",
       "    </tr>\n",
       "    <tr>\n",
       "      <th>2</th>\n",
       "      <td>2</td>\n",
       "      <td>FL</td>\n",
       "      <td>66035</td>\n",
       "      <td>8</td>\n",
       "      <td>9</td>\n",
       "    </tr>\n",
       "    <tr>\n",
       "      <th>3</th>\n",
       "      <td>3</td>\n",
       "      <td>AZ</td>\n",
       "      <td>18145</td>\n",
       "      <td>59</td>\n",
       "      <td>12</td>\n",
       "    </tr>\n",
       "    <tr>\n",
       "      <th>4</th>\n",
       "      <td>4</td>\n",
       "      <td>AZ</td>\n",
       "      <td>74404</td>\n",
       "      <td>50</td>\n",
       "      <td>9</td>\n",
       "    </tr>\n",
       "  </tbody>\n",
       "</table>\n",
       "</div>"
      ],
      "text/plain": [
       "   property state   sqft  age  amount\n",
       "0         0    AZ  88972   83      13\n",
       "1         1    OH  43434   11      11\n",
       "2         2    FL  66035    8       9\n",
       "3         3    AZ  18145   59      12\n",
       "4         4    AZ  74404   50       9"
      ]
     },
     "execution_count": 49,
     "metadata": {},
     "output_type": "execute_result"
    }
   ],
   "source": [
    "df_final.head()"
   ]
  },
  {
   "cell_type": "code",
   "execution_count": 53,
   "metadata": {},
   "outputs": [],
   "source": [
    "# Calculating the exposure\n",
    "df_final['exposure']=df_final['sqft']/1000"
   ]
  },
  {
   "cell_type": "code",
   "execution_count": 51,
   "metadata": {},
   "outputs": [],
   "source": [
    "df_final.rename(columns={'amount': 'claims'}, inplace=True)"
   ]
  },
  {
   "cell_type": "code",
   "execution_count": 54,
   "metadata": {},
   "outputs": [],
   "source": [
    "# freq whcih we be our dependent varable as part of the modelling\n",
    "df_final['freq']=df_final['claims']/df_final['exposure']"
   ]
  },
  {
   "cell_type": "code",
   "execution_count": 70,
   "metadata": {},
   "outputs": [],
   "source": [
    "df_final['age_bins'] = pd.cut(x=df_final['age'], bins=[-np.inf,0, 10, 20, 30, 40, 50,60,70,80,90,100],labels=['0','10','20', '30', '40','50','60','70','80','90','100'])"
   ]
  },
  {
   "cell_type": "code",
   "execution_count": 71,
   "metadata": {},
   "outputs": [
    {
     "data": {
      "text/html": [
       "<div>\n",
       "<style scoped>\n",
       "    .dataframe tbody tr th:only-of-type {\n",
       "        vertical-align: middle;\n",
       "    }\n",
       "\n",
       "    .dataframe tbody tr th {\n",
       "        vertical-align: top;\n",
       "    }\n",
       "\n",
       "    .dataframe thead th {\n",
       "        text-align: right;\n",
       "    }\n",
       "</style>\n",
       "<table border=\"1\" class=\"dataframe\">\n",
       "  <thead>\n",
       "    <tr style=\"text-align: right;\">\n",
       "      <th></th>\n",
       "      <th>property</th>\n",
       "      <th>state</th>\n",
       "      <th>sqft</th>\n",
       "      <th>age</th>\n",
       "      <th>claims</th>\n",
       "      <th>exposure</th>\n",
       "      <th>freq</th>\n",
       "      <th>age_bins</th>\n",
       "    </tr>\n",
       "  </thead>\n",
       "  <tbody>\n",
       "    <tr>\n",
       "      <th>0</th>\n",
       "      <td>0</td>\n",
       "      <td>AZ</td>\n",
       "      <td>88972</td>\n",
       "      <td>83</td>\n",
       "      <td>13</td>\n",
       "      <td>88.972</td>\n",
       "      <td>0.146113</td>\n",
       "      <td>90</td>\n",
       "    </tr>\n",
       "    <tr>\n",
       "      <th>1</th>\n",
       "      <td>1</td>\n",
       "      <td>OH</td>\n",
       "      <td>43434</td>\n",
       "      <td>11</td>\n",
       "      <td>11</td>\n",
       "      <td>43.434</td>\n",
       "      <td>0.253258</td>\n",
       "      <td>20</td>\n",
       "    </tr>\n",
       "    <tr>\n",
       "      <th>2</th>\n",
       "      <td>2</td>\n",
       "      <td>FL</td>\n",
       "      <td>66035</td>\n",
       "      <td>8</td>\n",
       "      <td>9</td>\n",
       "      <td>66.035</td>\n",
       "      <td>0.136291</td>\n",
       "      <td>10</td>\n",
       "    </tr>\n",
       "    <tr>\n",
       "      <th>3</th>\n",
       "      <td>3</td>\n",
       "      <td>AZ</td>\n",
       "      <td>18145</td>\n",
       "      <td>59</td>\n",
       "      <td>12</td>\n",
       "      <td>18.145</td>\n",
       "      <td>0.661339</td>\n",
       "      <td>60</td>\n",
       "    </tr>\n",
       "    <tr>\n",
       "      <th>4</th>\n",
       "      <td>4</td>\n",
       "      <td>AZ</td>\n",
       "      <td>74404</td>\n",
       "      <td>50</td>\n",
       "      <td>9</td>\n",
       "      <td>74.404</td>\n",
       "      <td>0.120961</td>\n",
       "      <td>50</td>\n",
       "    </tr>\n",
       "  </tbody>\n",
       "</table>\n",
       "</div>"
      ],
      "text/plain": [
       "   property state   sqft  age  claims  exposure      freq age_bins\n",
       "0         0    AZ  88972   83      13    88.972  0.146113       90\n",
       "1         1    OH  43434   11      11    43.434  0.253258       20\n",
       "2         2    FL  66035    8       9    66.035  0.136291       10\n",
       "3         3    AZ  18145   59      12    18.145  0.661339       60\n",
       "4         4    AZ  74404   50       9    74.404  0.120961       50"
      ]
     },
     "execution_count": 71,
     "metadata": {},
     "output_type": "execute_result"
    }
   ],
   "source": [
    "df_final.head()"
   ]
  },
  {
   "cell_type": "code",
   "execution_count": null,
   "metadata": {},
   "outputs": [],
   "source": []
  },
  {
   "cell_type": "code",
   "execution_count": 72,
   "metadata": {},
   "outputs": [
    {
     "name": "stdout",
     "output_type": "stream",
     "text": [
      "<class 'pandas.core.frame.DataFrame'>\n",
      "RangeIndex: 8209 entries, 0 to 8208\n",
      "Data columns (total 8 columns):\n",
      " #   Column    Non-Null Count  Dtype   \n",
      "---  ------    --------------  -----   \n",
      " 0   property  8209 non-null   int64   \n",
      " 1   state     8209 non-null   object  \n",
      " 2   sqft      8209 non-null   int64   \n",
      " 3   age       8209 non-null   int64   \n",
      " 4   claims    8209 non-null   int64   \n",
      " 5   exposure  8209 non-null   float64 \n",
      " 6   freq      8209 non-null   float64 \n",
      " 7   age_bins  8209 non-null   category\n",
      "dtypes: category(1), float64(2), int64(4), object(1)\n",
      "memory usage: 457.5+ KB\n"
     ]
    }
   ],
   "source": [
    "df_final.info()"
   ]
  },
  {
   "cell_type": "code",
   "execution_count": 73,
   "metadata": {},
   "outputs": [],
   "source": [
    "df_final.to_csv('Output_files/Data_pre.csv',index=False)"
   ]
  },
  {
   "cell_type": "code",
   "execution_count": null,
   "metadata": {},
   "outputs": [],
   "source": []
  }
 ],
 "metadata": {
  "kernelspec": {
   "display_name": "Python 3",
   "language": "python",
   "name": "python3"
  },
  "language_info": {
   "codemirror_mode": {
    "name": "ipython",
    "version": 3
   },
   "file_extension": ".py",
   "mimetype": "text/x-python",
   "name": "python",
   "nbconvert_exporter": "python",
   "pygments_lexer": "ipython3",
   "version": "3.6.5"
  }
 },
 "nbformat": 4,
 "nbformat_minor": 2
}
