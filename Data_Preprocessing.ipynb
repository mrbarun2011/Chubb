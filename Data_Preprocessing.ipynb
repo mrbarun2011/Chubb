{
 "cells": [
  {
   "cell_type": "markdown",
   "metadata": {},
   "source": [
    "Your task is to build a claim frequency model that takes as input the attributes of a single property (state, square footage and building age) and outputs the expected number of claims for that building _per unit of exposure_. We would like you to use 1,000 square feet as your unit of exposure. Therefore, if a building is 2,000 square feet, then it corresponds to 2 units of exposure. If your model outputs 3.23 for this building, it will mean that you predict that, on average, this building will generate 6.46 claims per year. "
   ]
  },
  {
   "cell_type": "markdown",
   "metadata": {},
   "source": [
    "As we need to take count rate data thus, we will consider the Poisson regression model:\n",
    "\n",
    "log(λi)=β0+β1xi"
   ]
  },
  {
   "cell_type": "markdown",
   "metadata": {},
   "source": [
    "Importing all the three Data files:\n",
    "1) For importing claim data you need to have pyarrow on the system, please refer the environment file"
   ]
  },
  {
   "cell_type": "markdown",
   "metadata": {},
   "source": [
    "Need to validate below data as we progress\n",
    "1) Poisson Response The response variable is a count per unit of time or space, described by a Poisson distribution.\n",
    "2) Independence The observations must be independent of one another.\n",
    "3) Mean=Variance By definition, the mean of a Poisson random variable must be equal to its variance.\n",
    "4) Linearity The log of the mean rate, log( λ), must be a linear function of x"
   ]
  },
  {
   "cell_type": "code",
   "execution_count": 258,
   "metadata": {},
   "outputs": [],
   "source": [
    "import pandas as pd\n",
    "import numpy as np\n"
   ]
  },
  {
   "cell_type": "code",
   "execution_count": 259,
   "metadata": {},
   "outputs": [],
   "source": [
    "df_policy= pd.read_excel('../policies_10272021.xlsx')\n",
    "df_property=pd.read_csv('../properties_10272021.csv')\n",
    "df_claim=pd.read_parquet('../claims_10272021.parquet',engine='pyarrow')"
   ]
  },
  {
   "cell_type": "code",
   "execution_count": 260,
   "metadata": {},
   "outputs": [
    {
     "data": {
      "text/html": [
       "<div>\n",
       "<style scoped>\n",
       "    .dataframe tbody tr th:only-of-type {\n",
       "        vertical-align: middle;\n",
       "    }\n",
       "\n",
       "    .dataframe tbody tr th {\n",
       "        vertical-align: top;\n",
       "    }\n",
       "\n",
       "    .dataframe thead th {\n",
       "        text-align: right;\n",
       "    }\n",
       "</style>\n",
       "<table border=\"1\" class=\"dataframe\">\n",
       "  <thead>\n",
       "    <tr style=\"text-align: right;\">\n",
       "      <th></th>\n",
       "      <th>pol</th>\n",
       "      <th>start</th>\n",
       "      <th>end</th>\n",
       "    </tr>\n",
       "  </thead>\n",
       "  <tbody>\n",
       "    <tr>\n",
       "      <th>0</th>\n",
       "      <td>11bb0dd0</td>\n",
       "      <td>4Jun.2018</td>\n",
       "      <td>4Jun.2019</td>\n",
       "    </tr>\n",
       "    <tr>\n",
       "      <th>1</th>\n",
       "      <td>96a3c554</td>\n",
       "      <td>25Jan2017</td>\n",
       "      <td>25Jan2018</td>\n",
       "    </tr>\n",
       "    <tr>\n",
       "      <th>2</th>\n",
       "      <td>35a90ece</td>\n",
       "      <td>26Oct2018</td>\n",
       "      <td>26Oct2019</td>\n",
       "    </tr>\n",
       "    <tr>\n",
       "      <th>3</th>\n",
       "      <td>6d034563</td>\n",
       "      <td>3Aug.2017</td>\n",
       "      <td>3Aug.2018</td>\n",
       "    </tr>\n",
       "    <tr>\n",
       "      <th>4</th>\n",
       "      <td>c70d089a</td>\n",
       "      <td>28Nov.2017</td>\n",
       "      <td>28Nov.2018</td>\n",
       "    </tr>\n",
       "  </tbody>\n",
       "</table>\n",
       "</div>"
      ],
      "text/plain": [
       "        pol       start         end\n",
       "0  11bb0dd0   4Jun.2018   4Jun.2019\n",
       "1  96a3c554   25Jan2017   25Jan2018\n",
       "2  35a90ece   26Oct2018   26Oct2019\n",
       "3  6d034563   3Aug.2017   3Aug.2018\n",
       "4  c70d089a  28Nov.2017  28Nov.2018"
      ]
     },
     "execution_count": 260,
     "metadata": {},
     "output_type": "execute_result"
    }
   ],
   "source": [
    "df_policy.head(5)"
   ]
  },
  {
   "cell_type": "code",
   "execution_count": 261,
   "metadata": {},
   "outputs": [
    {
     "name": "stdout",
     "output_type": "stream",
     "text": [
      "<class 'pandas.core.frame.DataFrame'>\n",
      "RangeIndex: 1760 entries, 0 to 1759\n",
      "Data columns (total 3 columns):\n",
      " #   Column  Non-Null Count  Dtype \n",
      "---  ------  --------------  ----- \n",
      " 0   pol     1760 non-null   object\n",
      " 1   start   1760 non-null   object\n",
      " 2   end     1760 non-null   object\n",
      "dtypes: object(3)\n",
      "memory usage: 41.4+ KB\n"
     ]
    }
   ],
   "source": [
    "df_policy.info()"
   ]
  },
  {
   "cell_type": "markdown",
   "metadata": {},
   "source": [
    "sessing start and end columns have \".\" char need to be removed for preprocessing and also found it has 29feb for non leave years needs to be replaced with 28"
   ]
  },
  {
   "cell_type": "code",
   "execution_count": 262,
   "metadata": {},
   "outputs": [],
   "source": [
    "df_policy['start']=[i.replace('.','') for i in df_policy['start']]\n",
    "df_policy['end']=[i.replace('.','') for i in df_policy['end']]"
   ]
  },
  {
   "cell_type": "code",
   "execution_count": 263,
   "metadata": {},
   "outputs": [],
   "source": [
    "df_policy['start']=[i.replace('29Feb','28Feb') for i in df_policy['start']]\n",
    "df_policy['end']=[i.replace('29Feb','28Feb') for i in df_policy['end']]\n"
   ]
  },
  {
   "cell_type": "code",
   "execution_count": 264,
   "metadata": {},
   "outputs": [],
   "source": [
    "df_policy['start']= pd.to_datetime(df_policy['start'], errors='coerce', format='%d%b%Y')\n",
    "df_policy['end']= pd.to_datetime(df_policy['end'], errors='coerce', format='%d%b%Y')"
   ]
  },
  {
   "cell_type": "code",
   "execution_count": 265,
   "metadata": {},
   "outputs": [
    {
     "data": {
      "text/html": [
       "<div>\n",
       "<style scoped>\n",
       "    .dataframe tbody tr th:only-of-type {\n",
       "        vertical-align: middle;\n",
       "    }\n",
       "\n",
       "    .dataframe tbody tr th {\n",
       "        vertical-align: top;\n",
       "    }\n",
       "\n",
       "    .dataframe thead th {\n",
       "        text-align: right;\n",
       "    }\n",
       "</style>\n",
       "<table border=\"1\" class=\"dataframe\">\n",
       "  <thead>\n",
       "    <tr style=\"text-align: right;\">\n",
       "      <th></th>\n",
       "      <th>pol</th>\n",
       "      <th>start</th>\n",
       "      <th>end</th>\n",
       "    </tr>\n",
       "  </thead>\n",
       "  <tbody>\n",
       "    <tr>\n",
       "      <th>864</th>\n",
       "      <td>254297a1</td>\n",
       "      <td>2016-02-28</td>\n",
       "      <td>2017-02-28</td>\n",
       "    </tr>\n",
       "    <tr>\n",
       "      <th>997</th>\n",
       "      <td>254297a1</td>\n",
       "      <td>2017-02-28</td>\n",
       "      <td>2018-02-28</td>\n",
       "    </tr>\n",
       "    <tr>\n",
       "      <th>1504</th>\n",
       "      <td>254297a1</td>\n",
       "      <td>2015-02-28</td>\n",
       "      <td>2016-02-28</td>\n",
       "    </tr>\n",
       "  </tbody>\n",
       "</table>\n",
       "</div>"
      ],
      "text/plain": [
       "           pol      start        end\n",
       "864   254297a1 2016-02-28 2017-02-28\n",
       "997   254297a1 2017-02-28 2018-02-28\n",
       "1504  254297a1 2015-02-28 2016-02-28"
      ]
     },
     "execution_count": 265,
     "metadata": {},
     "output_type": "execute_result"
    }
   ],
   "source": [
    "df_policy[df_policy['pol']=='254297a1']"
   ]
  },
  {
   "cell_type": "code",
   "execution_count": 266,
   "metadata": {},
   "outputs": [
    {
     "data": {
      "text/html": [
       "<div>\n",
       "<style scoped>\n",
       "    .dataframe tbody tr th:only-of-type {\n",
       "        vertical-align: middle;\n",
       "    }\n",
       "\n",
       "    .dataframe tbody tr th {\n",
       "        vertical-align: top;\n",
       "    }\n",
       "\n",
       "    .dataframe thead th {\n",
       "        text-align: right;\n",
       "    }\n",
       "</style>\n",
       "<table border=\"1\" class=\"dataframe\">\n",
       "  <thead>\n",
       "    <tr style=\"text-align: right;\">\n",
       "      <th></th>\n",
       "      <th>pol</th>\n",
       "      <th>start</th>\n",
       "      <th>end</th>\n",
       "    </tr>\n",
       "  </thead>\n",
       "  <tbody>\n",
       "  </tbody>\n",
       "</table>\n",
       "</div>"
      ],
      "text/plain": [
       "Empty DataFrame\n",
       "Columns: [pol, start, end]\n",
       "Index: []"
      ]
     },
     "execution_count": 266,
     "metadata": {},
     "output_type": "execute_result"
    }
   ],
   "source": [
    "df_policy[df_policy['end'].isnull()]"
   ]
  },
  {
   "cell_type": "code",
   "execution_count": 267,
   "metadata": {},
   "outputs": [
    {
     "name": "stdout",
     "output_type": "stream",
     "text": [
      "<class 'pandas.core.frame.DataFrame'>\n",
      "RangeIndex: 1760 entries, 0 to 1759\n",
      "Data columns (total 3 columns):\n",
      " #   Column  Non-Null Count  Dtype         \n",
      "---  ------  --------------  -----         \n",
      " 0   pol     1760 non-null   object        \n",
      " 1   start   1760 non-null   datetime64[ns]\n",
      " 2   end     1760 non-null   datetime64[ns]\n",
      "dtypes: datetime64[ns](2), object(1)\n",
      "memory usage: 41.4+ KB\n"
     ]
    }
   ],
   "source": [
    "df_policy.info()"
   ]
  },
  {
   "cell_type": "code",
   "execution_count": 269,
   "metadata": {},
   "outputs": [
    {
     "data": {
      "text/html": [
       "<div>\n",
       "<style scoped>\n",
       "    .dataframe tbody tr th:only-of-type {\n",
       "        vertical-align: middle;\n",
       "    }\n",
       "\n",
       "    .dataframe tbody tr th {\n",
       "        vertical-align: top;\n",
       "    }\n",
       "\n",
       "    .dataframe thead th {\n",
       "        text-align: right;\n",
       "    }\n",
       "</style>\n",
       "<table border=\"1\" class=\"dataframe\">\n",
       "  <thead>\n",
       "    <tr style=\"text-align: right;\">\n",
       "      <th></th>\n",
       "      <th>pol</th>\n",
       "      <th>start</th>\n",
       "      <th>end</th>\n",
       "    </tr>\n",
       "  </thead>\n",
       "  <tbody>\n",
       "    <tr>\n",
       "      <th>0</th>\n",
       "      <td>11bb0dd0</td>\n",
       "      <td>2018-06-04</td>\n",
       "      <td>2019-06-04</td>\n",
       "    </tr>\n",
       "    <tr>\n",
       "      <th>1</th>\n",
       "      <td>96a3c554</td>\n",
       "      <td>2017-01-25</td>\n",
       "      <td>2018-01-25</td>\n",
       "    </tr>\n",
       "    <tr>\n",
       "      <th>2</th>\n",
       "      <td>35a90ece</td>\n",
       "      <td>2018-10-26</td>\n",
       "      <td>2019-10-26</td>\n",
       "    </tr>\n",
       "    <tr>\n",
       "      <th>3</th>\n",
       "      <td>6d034563</td>\n",
       "      <td>2017-08-03</td>\n",
       "      <td>2018-08-03</td>\n",
       "    </tr>\n",
       "    <tr>\n",
       "      <th>4</th>\n",
       "      <td>c70d089a</td>\n",
       "      <td>2017-11-28</td>\n",
       "      <td>2018-11-28</td>\n",
       "    </tr>\n",
       "  </tbody>\n",
       "</table>\n",
       "</div>"
      ],
      "text/plain": [
       "        pol      start        end\n",
       "0  11bb0dd0 2018-06-04 2019-06-04\n",
       "1  96a3c554 2017-01-25 2018-01-25\n",
       "2  35a90ece 2018-10-26 2019-10-26\n",
       "3  6d034563 2017-08-03 2018-08-03\n",
       "4  c70d089a 2017-11-28 2018-11-28"
      ]
     },
     "execution_count": 269,
     "metadata": {},
     "output_type": "execute_result"
    }
   ],
   "source": [
    "df_policy.head()"
   ]
  },
  {
   "cell_type": "markdown",
   "metadata": {},
   "source": [
    "Policy dataset has three columns (policy number and start and end date) . It doesn't have any null values "
   ]
  },
  {
   "cell_type": "code",
   "execution_count": 270,
   "metadata": {},
   "outputs": [
    {
     "data": {
      "text/html": [
       "<div>\n",
       "<style scoped>\n",
       "    .dataframe tbody tr th:only-of-type {\n",
       "        vertical-align: middle;\n",
       "    }\n",
       "\n",
       "    .dataframe tbody tr th {\n",
       "        vertical-align: top;\n",
       "    }\n",
       "\n",
       "    .dataframe thead th {\n",
       "        text-align: right;\n",
       "    }\n",
       "</style>\n",
       "<table border=\"1\" class=\"dataframe\">\n",
       "  <thead>\n",
       "    <tr style=\"text-align: right;\">\n",
       "      <th></th>\n",
       "      <th>prop_id</th>\n",
       "      <th>pol</th>\n",
       "      <th>state</th>\n",
       "      <th>sqft</th>\n",
       "      <th>age</th>\n",
       "    </tr>\n",
       "  </thead>\n",
       "  <tbody>\n",
       "    <tr>\n",
       "      <th>0</th>\n",
       "      <td>7019</td>\n",
       "      <td>0152f838</td>\n",
       "      <td>OH</td>\n",
       "      <td>10876</td>\n",
       "      <td>67</td>\n",
       "    </tr>\n",
       "    <tr>\n",
       "      <th>1</th>\n",
       "      <td>8025</td>\n",
       "      <td>604b4377</td>\n",
       "      <td>AZ</td>\n",
       "      <td>87946</td>\n",
       "      <td>95</td>\n",
       "    </tr>\n",
       "    <tr>\n",
       "      <th>2</th>\n",
       "      <td>5766</td>\n",
       "      <td>b7007f67</td>\n",
       "      <td>FL</td>\n",
       "      <td>57978</td>\n",
       "      <td>13</td>\n",
       "    </tr>\n",
       "    <tr>\n",
       "      <th>3</th>\n",
       "      <td>6120</td>\n",
       "      <td>bae6a6d7</td>\n",
       "      <td>AZ</td>\n",
       "      <td>89202</td>\n",
       "      <td>53</td>\n",
       "    </tr>\n",
       "    <tr>\n",
       "      <th>4</th>\n",
       "      <td>1468</td>\n",
       "      <td>a5916966</td>\n",
       "      <td>AZ</td>\n",
       "      <td>35934</td>\n",
       "      <td>29</td>\n",
       "    </tr>\n",
       "  </tbody>\n",
       "</table>\n",
       "</div>"
      ],
      "text/plain": [
       "   prop_id       pol state   sqft  age\n",
       "0     7019  0152f838    OH  10876   67\n",
       "1     8025  604b4377    AZ  87946   95\n",
       "2     5766  b7007f67    FL  57978   13\n",
       "3     6120  bae6a6d7    AZ  89202   53\n",
       "4     1468  a5916966    AZ  35934   29"
      ]
     },
     "execution_count": 270,
     "metadata": {},
     "output_type": "execute_result"
    }
   ],
   "source": [
    "df_property.head()"
   ]
  },
  {
   "cell_type": "code",
   "execution_count": 271,
   "metadata": {},
   "outputs": [
    {
     "name": "stdout",
     "output_type": "stream",
     "text": [
      "<class 'pandas.core.frame.DataFrame'>\n",
      "RangeIndex: 8413 entries, 0 to 8412\n",
      "Data columns (total 5 columns):\n",
      " #   Column   Non-Null Count  Dtype \n",
      "---  ------   --------------  ----- \n",
      " 0   prop_id  8413 non-null   int64 \n",
      " 1   pol      8413 non-null   object\n",
      " 2   state    8413 non-null   object\n",
      " 3   sqft     8413 non-null   int64 \n",
      " 4   age      8413 non-null   int64 \n",
      "dtypes: int64(3), object(2)\n",
      "memory usage: 328.8+ KB\n"
     ]
    }
   ],
   "source": [
    "df_property.info()"
   ]
  },
  {
   "cell_type": "markdown",
   "metadata": {},
   "source": [
    "Policy dataset has 5 columns (property id, policy number, state, sqrt and age). It doesn't have any null values"
   ]
  },
  {
   "cell_type": "code",
   "execution_count": 272,
   "metadata": {},
   "outputs": [
    {
     "data": {
      "text/html": [
       "<div>\n",
       "<style scoped>\n",
       "    .dataframe tbody tr th:only-of-type {\n",
       "        vertical-align: middle;\n",
       "    }\n",
       "\n",
       "    .dataframe tbody tr th {\n",
       "        vertical-align: top;\n",
       "    }\n",
       "\n",
       "    .dataframe thead th {\n",
       "        text-align: right;\n",
       "    }\n",
       "</style>\n",
       "<table border=\"1\" class=\"dataframe\">\n",
       "  <thead>\n",
       "    <tr style=\"text-align: right;\">\n",
       "      <th></th>\n",
       "      <th>pol</th>\n",
       "      <th>property</th>\n",
       "      <th>start_date</th>\n",
       "      <th>amount</th>\n",
       "    </tr>\n",
       "  </thead>\n",
       "  <tbody>\n",
       "    <tr>\n",
       "      <th>0</th>\n",
       "      <td>0152f838</td>\n",
       "      <td>7019</td>\n",
       "      <td>25Oct2018</td>\n",
       "      <td>157866.849557</td>\n",
       "    </tr>\n",
       "    <tr>\n",
       "      <th>1</th>\n",
       "      <td>0152f838</td>\n",
       "      <td>7019</td>\n",
       "      <td>25Oct2018</td>\n",
       "      <td>918867.179064</td>\n",
       "    </tr>\n",
       "    <tr>\n",
       "      <th>2</th>\n",
       "      <td>0152f838</td>\n",
       "      <td>7019</td>\n",
       "      <td>25Oct2018</td>\n",
       "      <td>128602.395049</td>\n",
       "    </tr>\n",
       "    <tr>\n",
       "      <th>3</th>\n",
       "      <td>0152f838</td>\n",
       "      <td>7019</td>\n",
       "      <td>25Oct2018</td>\n",
       "      <td>447153.652892</td>\n",
       "    </tr>\n",
       "    <tr>\n",
       "      <th>4</th>\n",
       "      <td>0152f838</td>\n",
       "      <td>7019</td>\n",
       "      <td>25Oct2018</td>\n",
       "      <td>221691.940430</td>\n",
       "    </tr>\n",
       "  </tbody>\n",
       "</table>\n",
       "</div>"
      ],
      "text/plain": [
       "        pol  property start_date         amount\n",
       "0  0152f838      7019  25Oct2018  157866.849557\n",
       "1  0152f838      7019  25Oct2018  918867.179064\n",
       "2  0152f838      7019  25Oct2018  128602.395049\n",
       "3  0152f838      7019  25Oct2018  447153.652892\n",
       "4  0152f838      7019  25Oct2018  221691.940430"
      ]
     },
     "execution_count": 272,
     "metadata": {},
     "output_type": "execute_result"
    }
   ],
   "source": [
    "df_claim.head()"
   ]
  },
  {
   "cell_type": "code",
   "execution_count": 273,
   "metadata": {},
   "outputs": [
    {
     "name": "stdout",
     "output_type": "stream",
     "text": [
      "<class 'pandas.core.frame.DataFrame'>\n",
      "RangeIndex: 62565 entries, 0 to 62564\n",
      "Data columns (total 4 columns):\n",
      " #   Column      Non-Null Count  Dtype  \n",
      "---  ------      --------------  -----  \n",
      " 0   pol         62565 non-null  object \n",
      " 1   property    62565 non-null  int64  \n",
      " 2   start_date  62565 non-null  object \n",
      " 3   amount      62565 non-null  float64\n",
      "dtypes: float64(1), int64(1), object(2)\n",
      "memory usage: 1.9+ MB\n"
     ]
    }
   ],
   "source": [
    "df_claim.info()"
   ]
  },
  {
   "cell_type": "markdown",
   "metadata": {},
   "source": [
    "df_claim has 4 columns,pol number, property id, start date and amount, no null values"
   ]
  },
  {
   "cell_type": "markdown",
   "metadata": {},
   "source": [
    "Claim dataset is our main dataset from where we can get the claim details, I will try to add other details from policy and property dataset\n",
    "\n",
    "\n",
    "1) First join Property dataset to Claim \n",
    "2) secondly I will try to join policy dataset to Claim"
   ]
  },
  {
   "cell_type": "code",
   "execution_count": 274,
   "metadata": {},
   "outputs": [
    {
     "data": {
      "text/plain": [
       "Index(['prop_id', 'pol', 'state', 'sqft', 'age'], dtype='object')"
      ]
     },
     "execution_count": 274,
     "metadata": {},
     "output_type": "execute_result"
    }
   ],
   "source": [
    "df_property.columns"
   ]
  },
  {
   "cell_type": "code",
   "execution_count": 275,
   "metadata": {},
   "outputs": [],
   "source": [
    "df_merge=pd.merge(df_claim, df_property,  how='left', left_on=['property'], right_on = ['prop_id'])"
   ]
  },
  {
   "cell_type": "code",
   "execution_count": 276,
   "metadata": {},
   "outputs": [
    {
     "data": {
      "text/html": [
       "<div>\n",
       "<style scoped>\n",
       "    .dataframe tbody tr th:only-of-type {\n",
       "        vertical-align: middle;\n",
       "    }\n",
       "\n",
       "    .dataframe tbody tr th {\n",
       "        vertical-align: top;\n",
       "    }\n",
       "\n",
       "    .dataframe thead th {\n",
       "        text-align: right;\n",
       "    }\n",
       "</style>\n",
       "<table border=\"1\" class=\"dataframe\">\n",
       "  <thead>\n",
       "    <tr style=\"text-align: right;\">\n",
       "      <th></th>\n",
       "      <th>pol_x</th>\n",
       "      <th>property</th>\n",
       "      <th>start_date</th>\n",
       "      <th>amount</th>\n",
       "      <th>prop_id</th>\n",
       "      <th>pol_y</th>\n",
       "      <th>state</th>\n",
       "      <th>sqft</th>\n",
       "      <th>age</th>\n",
       "    </tr>\n",
       "  </thead>\n",
       "  <tbody>\n",
       "    <tr>\n",
       "      <th>0</th>\n",
       "      <td>0152f838</td>\n",
       "      <td>7019</td>\n",
       "      <td>25Oct2018</td>\n",
       "      <td>157866.849557</td>\n",
       "      <td>7019</td>\n",
       "      <td>0152f838</td>\n",
       "      <td>OH</td>\n",
       "      <td>10876</td>\n",
       "      <td>67</td>\n",
       "    </tr>\n",
       "    <tr>\n",
       "      <th>1</th>\n",
       "      <td>0152f838</td>\n",
       "      <td>7019</td>\n",
       "      <td>25Oct2018</td>\n",
       "      <td>918867.179064</td>\n",
       "      <td>7019</td>\n",
       "      <td>0152f838</td>\n",
       "      <td>OH</td>\n",
       "      <td>10876</td>\n",
       "      <td>67</td>\n",
       "    </tr>\n",
       "    <tr>\n",
       "      <th>2</th>\n",
       "      <td>0152f838</td>\n",
       "      <td>7019</td>\n",
       "      <td>25Oct2018</td>\n",
       "      <td>128602.395049</td>\n",
       "      <td>7019</td>\n",
       "      <td>0152f838</td>\n",
       "      <td>OH</td>\n",
       "      <td>10876</td>\n",
       "      <td>67</td>\n",
       "    </tr>\n",
       "    <tr>\n",
       "      <th>3</th>\n",
       "      <td>0152f838</td>\n",
       "      <td>7019</td>\n",
       "      <td>25Oct2018</td>\n",
       "      <td>447153.652892</td>\n",
       "      <td>7019</td>\n",
       "      <td>0152f838</td>\n",
       "      <td>OH</td>\n",
       "      <td>10876</td>\n",
       "      <td>67</td>\n",
       "    </tr>\n",
       "    <tr>\n",
       "      <th>4</th>\n",
       "      <td>0152f838</td>\n",
       "      <td>7019</td>\n",
       "      <td>25Oct2018</td>\n",
       "      <td>221691.940430</td>\n",
       "      <td>7019</td>\n",
       "      <td>0152f838</td>\n",
       "      <td>OH</td>\n",
       "      <td>10876</td>\n",
       "      <td>67</td>\n",
       "    </tr>\n",
       "  </tbody>\n",
       "</table>\n",
       "</div>"
      ],
      "text/plain": [
       "      pol_x  property start_date         amount  prop_id     pol_y state  \\\n",
       "0  0152f838      7019  25Oct2018  157866.849557     7019  0152f838    OH   \n",
       "1  0152f838      7019  25Oct2018  918867.179064     7019  0152f838    OH   \n",
       "2  0152f838      7019  25Oct2018  128602.395049     7019  0152f838    OH   \n",
       "3  0152f838      7019  25Oct2018  447153.652892     7019  0152f838    OH   \n",
       "4  0152f838      7019  25Oct2018  221691.940430     7019  0152f838    OH   \n",
       "\n",
       "    sqft  age  \n",
       "0  10876   67  \n",
       "1  10876   67  \n",
       "2  10876   67  \n",
       "3  10876   67  \n",
       "4  10876   67  "
      ]
     },
     "execution_count": 276,
     "metadata": {},
     "output_type": "execute_result"
    }
   ],
   "source": [
    "df_merge.head()"
   ]
  },
  {
   "cell_type": "code",
   "execution_count": 277,
   "metadata": {},
   "outputs": [],
   "source": [
    "df_merge['start_date']= pd.to_datetime(df_merge['start_date'], errors='coerce', format='%d%b%Y')"
   ]
  },
  {
   "cell_type": "code",
   "execution_count": 278,
   "metadata": {},
   "outputs": [],
   "source": [
    "df_merge=df_merge.drop(['pol_y','prop_id'],axis=1)"
   ]
  },
  {
   "cell_type": "code",
   "execution_count": 279,
   "metadata": {},
   "outputs": [
    {
     "name": "stdout",
     "output_type": "stream",
     "text": [
      "<class 'pandas.core.frame.DataFrame'>\n",
      "Int64Index: 62565 entries, 0 to 62564\n",
      "Data columns (total 7 columns):\n",
      " #   Column      Non-Null Count  Dtype         \n",
      "---  ------      --------------  -----         \n",
      " 0   pol_x       62565 non-null  object        \n",
      " 1   property    62565 non-null  int64         \n",
      " 2   start_date  15300 non-null  datetime64[ns]\n",
      " 3   amount      62565 non-null  float64       \n",
      " 4   state       62565 non-null  object        \n",
      " 5   sqft        62565 non-null  int64         \n",
      " 6   age         62565 non-null  int64         \n",
      "dtypes: datetime64[ns](1), float64(1), int64(3), object(2)\n",
      "memory usage: 3.8+ MB\n"
     ]
    }
   ],
   "source": [
    "df_merge.info()"
   ]
  },
  {
   "cell_type": "code",
   "execution_count": 280,
   "metadata": {},
   "outputs": [],
   "source": [
    "df_merge = pd.merge(df_merge, df_policy,  how='left', left_on=['pol_x','start_date'], right_on = ['pol','start'])"
   ]
  },
  {
   "cell_type": "code",
   "execution_count": 281,
   "metadata": {},
   "outputs": [
    {
     "data": {
      "text/html": [
       "<div>\n",
       "<style scoped>\n",
       "    .dataframe tbody tr th:only-of-type {\n",
       "        vertical-align: middle;\n",
       "    }\n",
       "\n",
       "    .dataframe tbody tr th {\n",
       "        vertical-align: top;\n",
       "    }\n",
       "\n",
       "    .dataframe thead th {\n",
       "        text-align: right;\n",
       "    }\n",
       "</style>\n",
       "<table border=\"1\" class=\"dataframe\">\n",
       "  <thead>\n",
       "    <tr style=\"text-align: right;\">\n",
       "      <th></th>\n",
       "      <th>pol_x</th>\n",
       "      <th>property</th>\n",
       "      <th>start_date</th>\n",
       "      <th>amount</th>\n",
       "      <th>state</th>\n",
       "      <th>sqft</th>\n",
       "      <th>age</th>\n",
       "      <th>pol</th>\n",
       "      <th>start</th>\n",
       "      <th>end</th>\n",
       "    </tr>\n",
       "  </thead>\n",
       "  <tbody>\n",
       "    <tr>\n",
       "      <th>0</th>\n",
       "      <td>0152f838</td>\n",
       "      <td>7019</td>\n",
       "      <td>2018-10-25</td>\n",
       "      <td>157866.849557</td>\n",
       "      <td>OH</td>\n",
       "      <td>10876</td>\n",
       "      <td>67</td>\n",
       "      <td>0152f838</td>\n",
       "      <td>2018-10-25</td>\n",
       "      <td>2019-10-25</td>\n",
       "    </tr>\n",
       "    <tr>\n",
       "      <th>1</th>\n",
       "      <td>0152f838</td>\n",
       "      <td>7019</td>\n",
       "      <td>2018-10-25</td>\n",
       "      <td>918867.179064</td>\n",
       "      <td>OH</td>\n",
       "      <td>10876</td>\n",
       "      <td>67</td>\n",
       "      <td>0152f838</td>\n",
       "      <td>2018-10-25</td>\n",
       "      <td>2019-10-25</td>\n",
       "    </tr>\n",
       "    <tr>\n",
       "      <th>2</th>\n",
       "      <td>0152f838</td>\n",
       "      <td>7019</td>\n",
       "      <td>2018-10-25</td>\n",
       "      <td>128602.395049</td>\n",
       "      <td>OH</td>\n",
       "      <td>10876</td>\n",
       "      <td>67</td>\n",
       "      <td>0152f838</td>\n",
       "      <td>2018-10-25</td>\n",
       "      <td>2019-10-25</td>\n",
       "    </tr>\n",
       "    <tr>\n",
       "      <th>3</th>\n",
       "      <td>0152f838</td>\n",
       "      <td>7019</td>\n",
       "      <td>2018-10-25</td>\n",
       "      <td>447153.652892</td>\n",
       "      <td>OH</td>\n",
       "      <td>10876</td>\n",
       "      <td>67</td>\n",
       "      <td>0152f838</td>\n",
       "      <td>2018-10-25</td>\n",
       "      <td>2019-10-25</td>\n",
       "    </tr>\n",
       "    <tr>\n",
       "      <th>4</th>\n",
       "      <td>0152f838</td>\n",
       "      <td>7019</td>\n",
       "      <td>2018-10-25</td>\n",
       "      <td>221691.940430</td>\n",
       "      <td>OH</td>\n",
       "      <td>10876</td>\n",
       "      <td>67</td>\n",
       "      <td>0152f838</td>\n",
       "      <td>2018-10-25</td>\n",
       "      <td>2019-10-25</td>\n",
       "    </tr>\n",
       "  </tbody>\n",
       "</table>\n",
       "</div>"
      ],
      "text/plain": [
       "      pol_x  property start_date         amount state   sqft  age       pol  \\\n",
       "0  0152f838      7019 2018-10-25  157866.849557    OH  10876   67  0152f838   \n",
       "1  0152f838      7019 2018-10-25  918867.179064    OH  10876   67  0152f838   \n",
       "2  0152f838      7019 2018-10-25  128602.395049    OH  10876   67  0152f838   \n",
       "3  0152f838      7019 2018-10-25  447153.652892    OH  10876   67  0152f838   \n",
       "4  0152f838      7019 2018-10-25  221691.940430    OH  10876   67  0152f838   \n",
       "\n",
       "       start        end  \n",
       "0 2018-10-25 2019-10-25  \n",
       "1 2018-10-25 2019-10-25  \n",
       "2 2018-10-25 2019-10-25  \n",
       "3 2018-10-25 2019-10-25  \n",
       "4 2018-10-25 2019-10-25  "
      ]
     },
     "execution_count": 281,
     "metadata": {},
     "output_type": "execute_result"
    }
   ],
   "source": [
    "df_merge.head()"
   ]
  },
  {
   "cell_type": "code",
   "execution_count": null,
   "metadata": {},
   "outputs": [],
   "source": []
  },
  {
   "cell_type": "code",
   "execution_count": 282,
   "metadata": {},
   "outputs": [
    {
     "data": {
      "text/plain": [
       "property  start_date  age  state  sqft \n",
       "46        2017-01-06  34   FL     75772    5\n",
       "          2018-01-06  34   FL     75772    4\n",
       "47        2017-01-06  16   AZ     62822    1\n",
       "          2018-01-06  16   AZ     62822    4\n",
       "48        2017-01-06  87   AZ     98971    7\n",
       "                                          ..\n",
       "8403      2018-01-25  45   FL     19760    3\n",
       "8404      2017-01-25  75   AZ     6894     4\n",
       "          2018-01-25  75   AZ     6894     5\n",
       "8405      2017-01-25  54   AZ     30015    6\n",
       "          2018-01-25  54   AZ     30015    5\n",
       "Name: amount, Length: 3522, dtype: int64"
      ]
     },
     "execution_count": 282,
     "metadata": {},
     "output_type": "execute_result"
    }
   ],
   "source": [
    "df_merge.groupby(['property','start_date','age','state','sqft'])['amount'].count()"
   ]
  },
  {
   "cell_type": "code",
   "execution_count": 283,
   "metadata": {},
   "outputs": [],
   "source": [
    "df_final=df_merge.groupby(['property','start_date','age','state','sqft'])['amount'].count()\n",
    "df_final=df_final.reset_index()"
   ]
  },
  {
   "cell_type": "code",
   "execution_count": null,
   "metadata": {},
   "outputs": [],
   "source": []
  },
  {
   "cell_type": "code",
   "execution_count": 284,
   "metadata": {},
   "outputs": [
    {
     "data": {
      "text/html": [
       "<div>\n",
       "<style scoped>\n",
       "    .dataframe tbody tr th:only-of-type {\n",
       "        vertical-align: middle;\n",
       "    }\n",
       "\n",
       "    .dataframe tbody tr th {\n",
       "        vertical-align: top;\n",
       "    }\n",
       "\n",
       "    .dataframe thead th {\n",
       "        text-align: right;\n",
       "    }\n",
       "</style>\n",
       "<table border=\"1\" class=\"dataframe\">\n",
       "  <thead>\n",
       "    <tr style=\"text-align: right;\">\n",
       "      <th></th>\n",
       "      <th>property</th>\n",
       "      <th>start_date</th>\n",
       "      <th>age</th>\n",
       "      <th>state</th>\n",
       "      <th>sqft</th>\n",
       "      <th>amount</th>\n",
       "    </tr>\n",
       "  </thead>\n",
       "  <tbody>\n",
       "    <tr>\n",
       "      <th>0</th>\n",
       "      <td>46</td>\n",
       "      <td>2017-01-06</td>\n",
       "      <td>34</td>\n",
       "      <td>FL</td>\n",
       "      <td>75772</td>\n",
       "      <td>5</td>\n",
       "    </tr>\n",
       "    <tr>\n",
       "      <th>1</th>\n",
       "      <td>46</td>\n",
       "      <td>2018-01-06</td>\n",
       "      <td>34</td>\n",
       "      <td>FL</td>\n",
       "      <td>75772</td>\n",
       "      <td>4</td>\n",
       "    </tr>\n",
       "    <tr>\n",
       "      <th>2</th>\n",
       "      <td>47</td>\n",
       "      <td>2017-01-06</td>\n",
       "      <td>16</td>\n",
       "      <td>AZ</td>\n",
       "      <td>62822</td>\n",
       "      <td>1</td>\n",
       "    </tr>\n",
       "    <tr>\n",
       "      <th>3</th>\n",
       "      <td>47</td>\n",
       "      <td>2018-01-06</td>\n",
       "      <td>16</td>\n",
       "      <td>AZ</td>\n",
       "      <td>62822</td>\n",
       "      <td>4</td>\n",
       "    </tr>\n",
       "    <tr>\n",
       "      <th>4</th>\n",
       "      <td>48</td>\n",
       "      <td>2017-01-06</td>\n",
       "      <td>87</td>\n",
       "      <td>AZ</td>\n",
       "      <td>98971</td>\n",
       "      <td>7</td>\n",
       "    </tr>\n",
       "  </tbody>\n",
       "</table>\n",
       "</div>"
      ],
      "text/plain": [
       "   property start_date  age state   sqft  amount\n",
       "0        46 2017-01-06   34    FL  75772       5\n",
       "1        46 2018-01-06   34    FL  75772       4\n",
       "2        47 2017-01-06   16    AZ  62822       1\n",
       "3        47 2018-01-06   16    AZ  62822       4\n",
       "4        48 2017-01-06   87    AZ  98971       7"
      ]
     },
     "execution_count": 284,
     "metadata": {},
     "output_type": "execute_result"
    }
   ],
   "source": [
    "df_final.head()"
   ]
  },
  {
   "cell_type": "code",
   "execution_count": 285,
   "metadata": {},
   "outputs": [],
   "source": [
    "df_final.rename(columns={'amount': 'claims'}, inplace=True)"
   ]
  },
  {
   "cell_type": "code",
   "execution_count": 286,
   "metadata": {},
   "outputs": [
    {
     "data": {
      "text/html": [
       "<div>\n",
       "<style scoped>\n",
       "    .dataframe tbody tr th:only-of-type {\n",
       "        vertical-align: middle;\n",
       "    }\n",
       "\n",
       "    .dataframe tbody tr th {\n",
       "        vertical-align: top;\n",
       "    }\n",
       "\n",
       "    .dataframe thead th {\n",
       "        text-align: right;\n",
       "    }\n",
       "</style>\n",
       "<table border=\"1\" class=\"dataframe\">\n",
       "  <thead>\n",
       "    <tr style=\"text-align: right;\">\n",
       "      <th></th>\n",
       "      <th>property</th>\n",
       "      <th>start_date</th>\n",
       "      <th>age</th>\n",
       "      <th>state</th>\n",
       "      <th>sqft</th>\n",
       "      <th>claims</th>\n",
       "    </tr>\n",
       "  </thead>\n",
       "  <tbody>\n",
       "    <tr>\n",
       "      <th>0</th>\n",
       "      <td>46</td>\n",
       "      <td>2017-01-06</td>\n",
       "      <td>34</td>\n",
       "      <td>FL</td>\n",
       "      <td>75772</td>\n",
       "      <td>5</td>\n",
       "    </tr>\n",
       "    <tr>\n",
       "      <th>1</th>\n",
       "      <td>46</td>\n",
       "      <td>2018-01-06</td>\n",
       "      <td>34</td>\n",
       "      <td>FL</td>\n",
       "      <td>75772</td>\n",
       "      <td>4</td>\n",
       "    </tr>\n",
       "    <tr>\n",
       "      <th>2</th>\n",
       "      <td>47</td>\n",
       "      <td>2017-01-06</td>\n",
       "      <td>16</td>\n",
       "      <td>AZ</td>\n",
       "      <td>62822</td>\n",
       "      <td>1</td>\n",
       "    </tr>\n",
       "    <tr>\n",
       "      <th>3</th>\n",
       "      <td>47</td>\n",
       "      <td>2018-01-06</td>\n",
       "      <td>16</td>\n",
       "      <td>AZ</td>\n",
       "      <td>62822</td>\n",
       "      <td>4</td>\n",
       "    </tr>\n",
       "    <tr>\n",
       "      <th>4</th>\n",
       "      <td>48</td>\n",
       "      <td>2017-01-06</td>\n",
       "      <td>87</td>\n",
       "      <td>AZ</td>\n",
       "      <td>98971</td>\n",
       "      <td>7</td>\n",
       "    </tr>\n",
       "  </tbody>\n",
       "</table>\n",
       "</div>"
      ],
      "text/plain": [
       "   property start_date  age state   sqft  claims\n",
       "0        46 2017-01-06   34    FL  75772       5\n",
       "1        46 2018-01-06   34    FL  75772       4\n",
       "2        47 2017-01-06   16    AZ  62822       1\n",
       "3        47 2018-01-06   16    AZ  62822       4\n",
       "4        48 2017-01-06   87    AZ  98971       7"
      ]
     },
     "execution_count": 286,
     "metadata": {},
     "output_type": "execute_result"
    }
   ],
   "source": [
    "df_final.head()"
   ]
  },
  {
   "cell_type": "code",
   "execution_count": 287,
   "metadata": {},
   "outputs": [],
   "source": [
    "df_final['exposure']=df_final['sqft']/1000\n"
   ]
  },
  {
   "cell_type": "code",
   "execution_count": 288,
   "metadata": {},
   "outputs": [],
   "source": [
    "df_final['start_date']=pd.to_datetime(df_final['start_date'])"
   ]
  },
  {
   "cell_type": "code",
   "execution_count": 289,
   "metadata": {},
   "outputs": [
    {
     "name": "stdout",
     "output_type": "stream",
     "text": [
      "<class 'pandas.core.frame.DataFrame'>\n",
      "RangeIndex: 3522 entries, 0 to 3521\n",
      "Data columns (total 7 columns):\n",
      " #   Column      Non-Null Count  Dtype         \n",
      "---  ------      --------------  -----         \n",
      " 0   property    3522 non-null   int64         \n",
      " 1   start_date  3522 non-null   datetime64[ns]\n",
      " 2   age         3522 non-null   int64         \n",
      " 3   state       3522 non-null   object        \n",
      " 4   sqft        3522 non-null   int64         \n",
      " 5   claims      3522 non-null   int64         \n",
      " 6   exposure    3522 non-null   float64       \n",
      "dtypes: datetime64[ns](1), float64(1), int64(4), object(1)\n",
      "memory usage: 192.7+ KB\n"
     ]
    }
   ],
   "source": [
    "df_final.info()"
   ]
  },
  {
   "cell_type": "code",
   "execution_count": 290,
   "metadata": {},
   "outputs": [],
   "source": [
    "df_final['month']=[ i.month for i in df_final['start_date']]"
   ]
  },
  {
   "cell_type": "code",
   "execution_count": 291,
   "metadata": {},
   "outputs": [
    {
     "data": {
      "text/html": [
       "<div>\n",
       "<style scoped>\n",
       "    .dataframe tbody tr th:only-of-type {\n",
       "        vertical-align: middle;\n",
       "    }\n",
       "\n",
       "    .dataframe tbody tr th {\n",
       "        vertical-align: top;\n",
       "    }\n",
       "\n",
       "    .dataframe thead th {\n",
       "        text-align: right;\n",
       "    }\n",
       "</style>\n",
       "<table border=\"1\" class=\"dataframe\">\n",
       "  <thead>\n",
       "    <tr style=\"text-align: right;\">\n",
       "      <th></th>\n",
       "      <th>property</th>\n",
       "      <th>start_date</th>\n",
       "      <th>age</th>\n",
       "      <th>state</th>\n",
       "      <th>sqft</th>\n",
       "      <th>claims</th>\n",
       "      <th>exposure</th>\n",
       "      <th>month</th>\n",
       "    </tr>\n",
       "  </thead>\n",
       "  <tbody>\n",
       "    <tr>\n",
       "      <th>0</th>\n",
       "      <td>46</td>\n",
       "      <td>2017-01-06</td>\n",
       "      <td>34</td>\n",
       "      <td>FL</td>\n",
       "      <td>75772</td>\n",
       "      <td>5</td>\n",
       "      <td>75.772</td>\n",
       "      <td>1</td>\n",
       "    </tr>\n",
       "    <tr>\n",
       "      <th>1</th>\n",
       "      <td>46</td>\n",
       "      <td>2018-01-06</td>\n",
       "      <td>34</td>\n",
       "      <td>FL</td>\n",
       "      <td>75772</td>\n",
       "      <td>4</td>\n",
       "      <td>75.772</td>\n",
       "      <td>1</td>\n",
       "    </tr>\n",
       "    <tr>\n",
       "      <th>2</th>\n",
       "      <td>47</td>\n",
       "      <td>2017-01-06</td>\n",
       "      <td>16</td>\n",
       "      <td>AZ</td>\n",
       "      <td>62822</td>\n",
       "      <td>1</td>\n",
       "      <td>62.822</td>\n",
       "      <td>1</td>\n",
       "    </tr>\n",
       "    <tr>\n",
       "      <th>3</th>\n",
       "      <td>47</td>\n",
       "      <td>2018-01-06</td>\n",
       "      <td>16</td>\n",
       "      <td>AZ</td>\n",
       "      <td>62822</td>\n",
       "      <td>4</td>\n",
       "      <td>62.822</td>\n",
       "      <td>1</td>\n",
       "    </tr>\n",
       "    <tr>\n",
       "      <th>4</th>\n",
       "      <td>48</td>\n",
       "      <td>2017-01-06</td>\n",
       "      <td>87</td>\n",
       "      <td>AZ</td>\n",
       "      <td>98971</td>\n",
       "      <td>7</td>\n",
       "      <td>98.971</td>\n",
       "      <td>1</td>\n",
       "    </tr>\n",
       "  </tbody>\n",
       "</table>\n",
       "</div>"
      ],
      "text/plain": [
       "   property start_date  age state   sqft  claims  exposure  month\n",
       "0        46 2017-01-06   34    FL  75772       5    75.772      1\n",
       "1        46 2018-01-06   34    FL  75772       4    75.772      1\n",
       "2        47 2017-01-06   16    AZ  62822       1    62.822      1\n",
       "3        47 2018-01-06   16    AZ  62822       4    62.822      1\n",
       "4        48 2017-01-06   87    AZ  98971       7    98.971      1"
      ]
     },
     "execution_count": 291,
     "metadata": {},
     "output_type": "execute_result"
    }
   ],
   "source": [
    "df_final.head()"
   ]
  },
  {
   "cell_type": "code",
   "execution_count": 292,
   "metadata": {},
   "outputs": [
    {
     "data": {
      "text/plain": [
       "5     1302\n",
       "1     1236\n",
       "10     984\n",
       "Name: month, dtype: int64"
      ]
     },
     "execution_count": 292,
     "metadata": {},
     "output_type": "execute_result"
    }
   ],
   "source": [
    "df_final['month'].value_counts()"
   ]
  },
  {
   "cell_type": "code",
   "execution_count": 293,
   "metadata": {},
   "outputs": [],
   "source": [
    "df_final['age_bins'] = pd.cut(x=df_final['age'], bins=[-np.inf,0, 10, 20, 30, 40, 50,60,70,80,90,100],labels=['0','10','20', '30', '40','50','60','70','80','90','100'])"
   ]
  },
  {
   "cell_type": "code",
   "execution_count": 294,
   "metadata": {},
   "outputs": [],
   "source": [
    "df_final=df_final.drop(['start_date','property','age'],axis=1)\n"
   ]
  },
  {
   "cell_type": "code",
   "execution_count": 295,
   "metadata": {},
   "outputs": [],
   "source": [
    "df_final['freq']=df_final['claims']/df_final['exposure']"
   ]
  },
  {
   "cell_type": "code",
   "execution_count": 301,
   "metadata": {},
   "outputs": [
    {
     "name": "stdout",
     "output_type": "stream",
     "text": [
      "Variance of freq 0.09113267896043019\n",
      "mean of freq 0.15972516824340868\n"
     ]
    }
   ],
   "source": [
    "print(f\"Variance of freq {df_final['freq'].var()}\")\n",
    "print(f\"mean of freq {df_final['freq'].mean()}\")"
   ]
  },
  {
   "cell_type": "code",
   "execution_count": 303,
   "metadata": {},
   "outputs": [
    {
     "name": "stdout",
     "output_type": "stream",
     "text": [
      "Variance of claim 6.379131877026931\n",
      "mean of claim 4.34412265758092\n"
     ]
    }
   ],
   "source": [
    "print(f\"Variance of claim {df_final['claims'].var()}\")\n",
    "print(f\"mean of claim {df_final['claims'].mean()}\")"
   ]
  },
  {
   "cell_type": "code",
   "execution_count": 296,
   "metadata": {},
   "outputs": [],
   "source": [
    "df_final.to_csv('Output_files/Data_pre.csv',index=False)"
   ]
  },
  {
   "cell_type": "markdown",
   "metadata": {},
   "source": [
    "*************************************************************************************************end of the file*****************"
   ]
  },
  {
   "cell_type": "code",
   "execution_count": null,
   "metadata": {},
   "outputs": [],
   "source": []
  }
 ],
 "metadata": {
  "kernelspec": {
   "display_name": "Python 3",
   "language": "python",
   "name": "python3"
  },
  "language_info": {
   "codemirror_mode": {
    "name": "ipython",
    "version": 3
   },
   "file_extension": ".py",
   "mimetype": "text/x-python",
   "name": "python",
   "nbconvert_exporter": "python",
   "pygments_lexer": "ipython3",
   "version": "3.6.5"
  }
 },
 "nbformat": 4,
 "nbformat_minor": 2
}
