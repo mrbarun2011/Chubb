{
 "cells": [
  {
   "cell_type": "code",
   "execution_count": 217,
   "metadata": {},
   "outputs": [],
   "source": [
    "import pandas as pd\n",
    "import numpy as np\n",
    "import statsmodels.api as sm\n",
    "from statsmodels.formula.api import glm\n",
    "from sklearn.model_selection import train_test_split\n",
    "from sklearn.pipeline import Pipeline\n",
    "import matplotlib.pyplot as plt\n",
    "import statsmodels.api as sm\n",
    "%matplotlib inline\n",
    "import seaborn as sns\n",
    "from sklearn.compose import ColumnTransformer\n",
    "from patsy import dmatrices\n",
    "from sklearn.externals import joblib\n",
    "import warnings\n",
    "warnings.filterwarnings('ignore')"
   ]
  },
  {
   "cell_type": "code",
   "execution_count": 192,
   "metadata": {},
   "outputs": [],
   "source": [
    "df= pd.read_csv('Output_files/Data_pre.csv')"
   ]
  },
  {
   "cell_type": "code",
   "execution_count": 193,
   "metadata": {},
   "outputs": [
    {
     "data": {
      "text/html": [
       "<div>\n",
       "<style scoped>\n",
       "    .dataframe tbody tr th:only-of-type {\n",
       "        vertical-align: middle;\n",
       "    }\n",
       "\n",
       "    .dataframe tbody tr th {\n",
       "        vertical-align: top;\n",
       "    }\n",
       "\n",
       "    .dataframe thead th {\n",
       "        text-align: right;\n",
       "    }\n",
       "</style>\n",
       "<table border=\"1\" class=\"dataframe\">\n",
       "  <thead>\n",
       "    <tr style=\"text-align: right;\">\n",
       "      <th></th>\n",
       "      <th>property</th>\n",
       "      <th>state</th>\n",
       "      <th>sqft</th>\n",
       "      <th>age</th>\n",
       "      <th>claims</th>\n",
       "      <th>exposure</th>\n",
       "      <th>freq</th>\n",
       "      <th>age_bins</th>\n",
       "    </tr>\n",
       "  </thead>\n",
       "  <tbody>\n",
       "    <tr>\n",
       "      <th>8204</th>\n",
       "      <td>8408</td>\n",
       "      <td>OH</td>\n",
       "      <td>65374</td>\n",
       "      <td>39</td>\n",
       "      <td>18</td>\n",
       "      <td>65.374</td>\n",
       "      <td>0.275339</td>\n",
       "      <td>40</td>\n",
       "    </tr>\n",
       "    <tr>\n",
       "      <th>8205</th>\n",
       "      <td>8409</td>\n",
       "      <td>AZ</td>\n",
       "      <td>84879</td>\n",
       "      <td>45</td>\n",
       "      <td>2</td>\n",
       "      <td>84.879</td>\n",
       "      <td>0.023563</td>\n",
       "      <td>50</td>\n",
       "    </tr>\n",
       "    <tr>\n",
       "      <th>8206</th>\n",
       "      <td>8410</td>\n",
       "      <td>AZ</td>\n",
       "      <td>65986</td>\n",
       "      <td>25</td>\n",
       "      <td>8</td>\n",
       "      <td>65.986</td>\n",
       "      <td>0.121238</td>\n",
       "      <td>30</td>\n",
       "    </tr>\n",
       "    <tr>\n",
       "      <th>8207</th>\n",
       "      <td>8411</td>\n",
       "      <td>OH</td>\n",
       "      <td>16746</td>\n",
       "      <td>85</td>\n",
       "      <td>22</td>\n",
       "      <td>16.746</td>\n",
       "      <td>1.313747</td>\n",
       "      <td>90</td>\n",
       "    </tr>\n",
       "    <tr>\n",
       "      <th>8208</th>\n",
       "      <td>8412</td>\n",
       "      <td>AZ</td>\n",
       "      <td>24166</td>\n",
       "      <td>47</td>\n",
       "      <td>8</td>\n",
       "      <td>24.166</td>\n",
       "      <td>0.331044</td>\n",
       "      <td>50</td>\n",
       "    </tr>\n",
       "  </tbody>\n",
       "</table>\n",
       "</div>"
      ],
      "text/plain": [
       "      property state   sqft  age  claims  exposure      freq  age_bins\n",
       "8204      8408    OH  65374   39      18    65.374  0.275339        40\n",
       "8205      8409    AZ  84879   45       2    84.879  0.023563        50\n",
       "8206      8410    AZ  65986   25       8    65.986  0.121238        30\n",
       "8207      8411    OH  16746   85      22    16.746  1.313747        90\n",
       "8208      8412    AZ  24166   47       8    24.166  0.331044        50"
      ]
     },
     "execution_count": 193,
     "metadata": {},
     "output_type": "execute_result"
    }
   ],
   "source": [
    "df.tail()"
   ]
  },
  {
   "cell_type": "code",
   "execution_count": 194,
   "metadata": {},
   "outputs": [
    {
     "data": {
      "text/plain": [
       "AZ    4895\n",
       "FL    2489\n",
       "OH     825\n",
       "Name: state, dtype: int64"
      ]
     },
     "execution_count": 194,
     "metadata": {},
     "output_type": "execute_result"
    }
   ],
   "source": [
    "df[\"state\"].value_counts()"
   ]
  },
  {
   "cell_type": "markdown",
   "metadata": {},
   "source": [
    "Transforming the state into numerical values using dummies lib "
   ]
  },
  {
   "cell_type": "code",
   "execution_count": 195,
   "metadata": {},
   "outputs": [],
   "source": [
    "transformed=pd.get_dummies(df['state'],drop_first=True)\n",
    "df=pd.concat((df,transformed),axis=1)"
   ]
  },
  {
   "cell_type": "markdown",
   "metadata": {},
   "source": [
    "Training only on 60% of the data and then modelling using GL stat package"
   ]
  },
  {
   "cell_type": "code",
   "execution_count": 196,
   "metadata": {},
   "outputs": [],
   "source": [
    "mask = np.random.rand(len(df)) < 0.6\n",
    "df_train = df[mask]\n",
    "df_test = df[~mask]"
   ]
  },
  {
   "cell_type": "code",
   "execution_count": 197,
   "metadata": {},
   "outputs": [],
   "source": [
    "expr = 'freq ~FL+OH+age_bins'\n",
    "#Let’s use Patsy to carve out the X and y matrices for the training and testing data sets:\n",
    "\n",
    "y_train, X_train = dmatrices(expr, df_train, return_type='dataframe')\n",
    "y_test, X_test = dmatrices(expr, df_test, return_type='dataframe')\n",
    "#Using the statsmodels GLM class, train the Poisson regression model on the training data set.\n",
    "\n",
    "poisson_training_results = sm.GLM(y_train, X_train, family=sm.families.Poisson()).fit()"
   ]
  },
  {
   "cell_type": "code",
   "execution_count": 198,
   "metadata": {},
   "outputs": [
    {
     "name": "stdout",
     "output_type": "stream",
     "text": [
      "                 Generalized Linear Model Regression Results                  \n",
      "==============================================================================\n",
      "Dep. Variable:                   freq   No. Observations:                 4895\n",
      "Model:                            GLM   Df Residuals:                     4891\n",
      "Model Family:                 Poisson   Df Model:                            3\n",
      "Link Function:                    log   Scale:                          1.0000\n",
      "Method:                          IRLS   Log-Likelihood:                -2950.4\n",
      "Date:                Tue, 02 Nov 2021   Deviance:                       1844.1\n",
      "Time:                        14:45:54   Pearson chi2:                 4.53e+03\n",
      "No. Iterations:                     5                                         \n",
      "Covariance Type:            nonrobust                                         \n",
      "==============================================================================\n",
      "                 coef    std err          z      P>|z|      [0.025      0.975]\n",
      "------------------------------------------------------------------------------\n",
      "Intercept     -2.0506      0.073    -28.273      0.000      -2.193      -1.908\n",
      "FL             0.2770      0.061      4.576      0.000       0.158       0.396\n",
      "OH             0.5771      0.079      7.300      0.000       0.422       0.732\n",
      "age_bins       0.0102      0.001     10.523      0.000       0.008       0.012\n",
      "==============================================================================\n"
     ]
    }
   ],
   "source": [
    "print(poisson_training_results.summary())"
   ]
  },
  {
   "cell_type": "markdown",
   "metadata": {},
   "source": [
    "we can view the coefficients and P values for each feature \n",
    "1) Got Devinace (1981.8) and log-likelihood (-3038.5)\n",
    "\n",
    "\n",
    "Below verify the stnadard erorr and Confidence interval "
   ]
  },
  {
   "cell_type": "code",
   "execution_count": 199,
   "metadata": {},
   "outputs": [
    {
     "name": "stdout",
     "output_type": "stream",
     "text": [
      "          mean   mean_se  mean_ci_lower  mean_ci_upper\n",
      "0     0.322979  0.014839       0.295166       0.353412\n",
      "3     0.237645  0.009081       0.220496       0.256128\n",
      "5     0.311408  0.023774       0.268130       0.361671\n",
      "7     0.291581  0.012040       0.268912       0.316160\n",
      "8     0.357758  0.018609       0.323083       0.396154\n",
      "...        ...       ...            ...            ...\n",
      "8199  0.283016  0.013708       0.257384       0.311201\n",
      "8203  0.193686  0.008599       0.177544       0.211295\n",
      "8205  0.214542  0.008639       0.198262       0.232160\n",
      "8207  0.575203  0.042628       0.497438       0.665126\n",
      "8208  0.214542  0.008639       0.198262       0.232160\n",
      "\n",
      "[3314 rows x 4 columns]\n"
     ]
    }
   ],
   "source": [
    "poisson_predictions = poisson_training_results.get_prediction(X_test)\n",
    "#summary_frame() returns a pandas DataFrame\n",
    "predictions_summary_frame = poisson_predictions.summary_frame()\n",
    "print(predictions_summary_frame)"
   ]
  },
  {
   "cell_type": "code",
   "execution_count": 200,
   "metadata": {},
   "outputs": [
    {
     "data": {
      "image/png": "[encoded data removed]",
      "text/plain": [
       "<Figure size 432x288 with 1 Axes>"
      ]
     },
     "metadata": {
      "needs_background": "light"
     },
     "output_type": "display_data"
    }
   ],
   "source": [
    "predicted_counts=predictions_summary_frame['mean']\n",
    "actual_counts = y_test['freq']\n",
    "fig = plt.figure()\n",
    "fig.suptitle('Predicted versus actual bicyclist counts on the Brooklyn bridge')\n",
    "predicted, = plt.plot(X_test.index[:30], predicted_counts[:30], 'go-', label='Predicted counts')\n",
    "actual, = plt.plot(X_test.index[:30], actual_counts[:30], 'ro-', label='Actual counts')\n",
    "plt.legend(handles=[predicted, actual])\n",
    "plt.show()"
   ]
  },
  {
   "cell_type": "code",
   "execution_count": 201,
   "metadata": {},
   "outputs": [],
   "source": [
    "df_train, df_test = train_test_split(df, test_size=0.33, random_state=0)"
   ]
  },
  {
   "cell_type": "code",
   "execution_count": 202,
   "metadata": {},
   "outputs": [
    {
     "data": {
      "text/plain": [
       "Pipeline(steps=[('preprocessor',\n",
       "                 ColumnTransformer(transformers=[('numeric', 'passthrough',\n",
       "                                                  ['FL', 'OH', 'age_bins'])])),\n",
       "                ('regressor', PoissonRegressor(alpha=1e-12, max_iter=300))])"
      ]
     },
     "execution_count": 202,
     "metadata": {},
     "output_type": "execute_result"
    }
   ],
   "source": [
    "from sklearn.linear_model import PoissonRegressor\n",
    "preprocessor = ColumnTransformer(\n",
    "    [\n",
    "        (\"numeric\", \"passthrough\", ['FL','OH','age_bins']),\n",
    "    ],\n",
    "    remainder=\"drop\",\n",
    ")\n",
    "n_samples = df_train.shape[0]\n",
    "\n",
    "poisson_glm = Pipeline(\n",
    "    [     (\"preprocessor\", preprocessor),\n",
    "        (\"regressor\", PoissonRegressor(alpha=1e-12, max_iter=300)),\n",
    "    ]\n",
    ")\n",
    "poisson_glm.fit(\n",
    "    df_train, df_train[\"freq\"], regressor__sample_weight=df_train[\"exposure\"]\n",
    ")\n",
    "\n",
    "\n"
   ]
  },
  {
   "cell_type": "code",
   "execution_count": 203,
   "metadata": {},
   "outputs": [
    {
     "name": "stdout",
     "output_type": "stream",
     "text": [
      "0.09951779819128566\n"
     ]
    }
   ],
   "source": [
    "from sklearn.metrics import mean_poisson_deviance\n",
    "mask = y_pred > 0\n",
    "y_pred = poisson_glm.predict(df_test)\n",
    "print(mean_poisson_deviance(\n",
    "            df_test[\"freq\"][mask],\n",
    "            y_pred[mask],\n",
    "            sample_weight=df_test[\"exposure\"][mask]))"
   ]
  },
  {
   "cell_type": "code",
   "execution_count": 212,
   "metadata": {},
   "outputs": [
    {
     "data": {
      "text/plain": [
       "Pipeline(steps=[('preprocessor',\n",
       "                 ColumnTransformer(transformers=[('numeric', 'passthrough',\n",
       "                                                  ['FL', 'OH', 'age_bins'])])),\n",
       "                ('regressor',\n",
       "                 HistGradientBoostingRegressor(loss='poisson',\n",
       "                                               max_leaf_nodes=150))])"
      ]
     },
     "execution_count": 212,
     "metadata": {},
     "output_type": "execute_result"
    }
   ],
   "source": [
    "from sklearn.experimental import enable_hist_gradient_boosting\n",
    "from sklearn.ensemble import HistGradientBoostingRegressor\n",
    "from sklearn.preprocessing import OrdinalEncoder\n",
    "\n",
    "\n",
    "poisson_gbrt = Pipeline(\n",
    "    [\n",
    "        (\"preprocessor\", preprocessor),\n",
    "        (\n",
    "            \"regressor\",\n",
    "            HistGradientBoostingRegressor(loss=\"poisson\", max_leaf_nodes=150),\n",
    "        ),\n",
    "    ]\n",
    ")\n",
    "poisson_gbrt.fit(\n",
    "    df_train, df_train[\"freq\"], regressor__sample_weight=df_train[\"exposure\"]\n",
    ")\n"
   ]
  },
  {
   "cell_type": "code",
   "execution_count": 213,
   "metadata": {},
   "outputs": [
    {
     "name": "stdout",
     "output_type": "stream",
     "text": [
      "0.10040046598429059\n"
     ]
    }
   ],
   "source": [
    "mask = y_pred > 0\n",
    "y_pred = poisson_gbrt.predict(df_test)\n",
    "print(mean_poisson_deviance(\n",
    "            df_test[\"freq\"][mask],\n",
    "            y_pred[mask],\n",
    "            sample_weight=df_test[\"exposure\"][mask]))"
   ]
  },
  {
   "cell_type": "code",
   "execution_count": 216,
   "metadata": {},
   "outputs": [
    {
     "name": "stdout",
     "output_type": "stream",
     "text": [
      "Actual number of claims: 20598\n",
      "Predicted number of claims by PoissonRegressor(alpha=1e-12, max_iter=300): 20647.1\n",
      "Predicted number of claims by HistGradientBoostingRegressor(loss='poisson', max_leaf_nodes=150): 20697.6\n"
     ]
    },
    {
     "data": {
      "image/png": "[encoded data removed]",
      "text/plain": [
       "<Figure size 864x576 with 2 Axes>"
      ]
     },
     "metadata": {
      "needs_background": "light"
     },
     "output_type": "display_data"
    }
   ],
   "source": [
    "from sklearn.utils import gen_even_slices\n",
    "\n",
    "\n",
    "def _mean_frequency_by_risk_group(y_true, y_pred, sample_weight=None, n_bins=100):\n",
    "    \"\"\"Compare predictions and observations for bins ordered by y_pred.\n",
    "\n",
    "    We order the samples by ``y_pred`` and split it in bins.\n",
    "    In each bin the observed mean is compared with the predicted mean.\n",
    "\n",
    "    Parameters\n",
    "    ----------\n",
    "    y_true: array-like of shape (n_samples,)\n",
    "        Ground truth (correct) target values.\n",
    "    y_pred: array-like of shape (n_samples,)\n",
    "        Estimated target values.\n",
    "    sample_weight : array-like of shape (n_samples,)\n",
    "        Sample weights.\n",
    "    n_bins: int\n",
    "        Number of bins to use.\n",
    "\n",
    "    Returns\n",
    "    -------\n",
    "    bin_centers: ndarray of shape (n_bins,)\n",
    "        bin centers\n",
    "    y_true_bin: ndarray of shape (n_bins,)\n",
    "        average y_pred for each bin\n",
    "    y_pred_bin: ndarray of shape (n_bins,)\n",
    "        average y_pred for each bin\n",
    "    \"\"\"\n",
    "    idx_sort = np.argsort(y_pred)\n",
    "    bin_centers = np.arange(0, 1, 1 / n_bins) + 0.5 / n_bins\n",
    "    y_pred_bin = np.zeros(n_bins)\n",
    "    y_true_bin = np.zeros(n_bins)\n",
    "\n",
    "    for n, sl in enumerate(gen_even_slices(len(y_true), n_bins)):\n",
    "        weights = sample_weight[idx_sort][sl]\n",
    "        y_pred_bin[n] = np.average(y_pred[idx_sort][sl], weights=weights)\n",
    "        y_true_bin[n] = np.average(y_true[idx_sort][sl], weights=weights)\n",
    "    return bin_centers, y_true_bin, y_pred_bin\n",
    "\n",
    "\n",
    "print(f\"Actual number of claims: {df_test['claims'].sum()}\")\n",
    "fig, ax = plt.subplots(nrows=1, ncols=2, figsize=(12, 8))\n",
    "plt.subplots_adjust(wspace=0.3)\n",
    "\n",
    "for axi, model in zip(ax.ravel(), [poisson_glm,poisson_gbrt]):\n",
    "    y_pred = model.predict(df_test)\n",
    "    y_true = df_test[\"freq\"].values\n",
    "    exposure = df_test[\"exposure\"].values\n",
    "    q, y_true_seg, y_pred_seg = _mean_frequency_by_risk_group(\n",
    "        y_true, y_pred, sample_weight=exposure, n_bins=10\n",
    "    )\n",
    "\n",
    "    # Name of the model after the estimator used in the last step of the\n",
    "    # pipeline.\n",
    "    print(f\"Predicted number of claims by {model[-1]}: {np.sum(y_pred * exposure):.1f}\")\n",
    "\n",
    "    axi.plot(q, y_pred_seg, marker=\"x\", linestyle=\"--\", label=\"predictions\")\n",
    "    axi.plot(q, y_true_seg, marker=\"o\", linestyle=\"--\", label=\"observations\")\n",
    "    axi.set_xlim(0, 1.0)\n",
    "    axi.set_ylim(0, 0.5)\n",
    "    axi.set(\n",
    "        title=model[-1],\n",
    "        xlabel=\"Fraction of samples sorted by y_pred\",\n",
    "        ylabel=\"Mean Frequency (y_pred)\",\n",
    "    )\n",
    "    axi.legend()\n",
    "plt.tight_layout()"
   ]
  },
  {
   "cell_type": "markdown",
   "metadata": {},
   "source": [
    "Got better result for Possion Regressor"
   ]
  },
  {
   "cell_type": "code",
   "execution_count": 223,
   "metadata": {},
   "outputs": [],
   "source": [
    "import pickle\n",
    " \n",
    "# Load the pickled model\n",
    "# Save the Modle to file in the current working directory\n",
    "\n",
    "Pkl_Filename = \"Poisson_Model.pkl\"  \n",
    "\n",
    "with open(Pkl_Filename, 'wb') as file:  \n",
    "    pickle.dump(poisson_glm, file)"
   ]
  },
  {
   "cell_type": "code",
   "execution_count": null,
   "metadata": {},
   "outputs": [],
   "source": []
  }
 ],
 "metadata": {
  "kernelspec": {
   "display_name": "Python 3",
   "language": "python",
   "name": "python3"
  },
  "language_info": {
   "codemirror_mode": {
    "name": "ipython",
    "version": 3
   },
   "file_extension": ".py",
   "mimetype": "text/x-python",
   "name": "python",
   "nbconvert_exporter": "python",
   "pygments_lexer": "ipython3",
   "version": "3.6.5"
  }
 },
 "nbformat": 4,
 "nbformat_minor": 2
}
