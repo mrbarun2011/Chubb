{
 "cells": [
  {
   "cell_type": "code",
   "execution_count": 369,
   "metadata": {},
   "outputs": [],
   "source": [
    "import pandas as pd\n",
    "import numpy as np\n",
    "import statsmodels.api as sm\n",
    "from statsmodels.formula.api import glm\n",
    "from sklearn.model_selection import train_test_split\n",
    "from sklearn.pipeline import Pipeline\n",
    "import matplotlib.pyplot as plt\n",
    "import statsmodels.api as sm\n",
    "%matplotlib inline\n",
    "import seaborn as sns\n",
    "from sklearn.compose import ColumnTransformer\n",
    "from patsy import dmatrices\n",
    "from sklearn.externals import joblib\n",
    "import warnings\n",
    "warnings.filterwarnings('ignore')"
   ]
  },
  {
   "cell_type": "code",
   "execution_count": 370,
   "metadata": {},
   "outputs": [],
   "source": [
    "df= pd.read_csv('Output_files/Data_pre.csv')"
   ]
  },
  {
   "cell_type": "code",
   "execution_count": 371,
   "metadata": {},
   "outputs": [
    {
     "data": {
      "text/html": [
       "<div>\n",
       "<style scoped>\n",
       "    .dataframe tbody tr th:only-of-type {\n",
       "        vertical-align: middle;\n",
       "    }\n",
       "\n",
       "    .dataframe tbody tr th {\n",
       "        vertical-align: top;\n",
       "    }\n",
       "\n",
       "    .dataframe thead th {\n",
       "        text-align: right;\n",
       "    }\n",
       "</style>\n",
       "<table border=\"1\" class=\"dataframe\">\n",
       "  <thead>\n",
       "    <tr style=\"text-align: right;\">\n",
       "      <th></th>\n",
       "      <th>state</th>\n",
       "      <th>sqft</th>\n",
       "      <th>claims</th>\n",
       "      <th>exposure</th>\n",
       "      <th>month</th>\n",
       "      <th>age_bins</th>\n",
       "      <th>freq</th>\n",
       "    </tr>\n",
       "  </thead>\n",
       "  <tbody>\n",
       "    <tr>\n",
       "      <th>3517</th>\n",
       "      <td>FL</td>\n",
       "      <td>19760</td>\n",
       "      <td>3</td>\n",
       "      <td>19.760</td>\n",
       "      <td>1</td>\n",
       "      <td>50</td>\n",
       "      <td>0.151822</td>\n",
       "    </tr>\n",
       "    <tr>\n",
       "      <th>3518</th>\n",
       "      <td>AZ</td>\n",
       "      <td>6894</td>\n",
       "      <td>4</td>\n",
       "      <td>6.894</td>\n",
       "      <td>1</td>\n",
       "      <td>80</td>\n",
       "      <td>0.580215</td>\n",
       "    </tr>\n",
       "    <tr>\n",
       "      <th>3519</th>\n",
       "      <td>AZ</td>\n",
       "      <td>6894</td>\n",
       "      <td>5</td>\n",
       "      <td>6.894</td>\n",
       "      <td>1</td>\n",
       "      <td>80</td>\n",
       "      <td>0.725268</td>\n",
       "    </tr>\n",
       "    <tr>\n",
       "      <th>3520</th>\n",
       "      <td>AZ</td>\n",
       "      <td>30015</td>\n",
       "      <td>6</td>\n",
       "      <td>30.015</td>\n",
       "      <td>1</td>\n",
       "      <td>60</td>\n",
       "      <td>0.199900</td>\n",
       "    </tr>\n",
       "    <tr>\n",
       "      <th>3521</th>\n",
       "      <td>AZ</td>\n",
       "      <td>30015</td>\n",
       "      <td>5</td>\n",
       "      <td>30.015</td>\n",
       "      <td>1</td>\n",
       "      <td>60</td>\n",
       "      <td>0.166583</td>\n",
       "    </tr>\n",
       "  </tbody>\n",
       "</table>\n",
       "</div>"
      ],
      "text/plain": [
       "     state   sqft  claims  exposure  month  age_bins      freq\n",
       "3517    FL  19760       3    19.760      1        50  0.151822\n",
       "3518    AZ   6894       4     6.894      1        80  0.580215\n",
       "3519    AZ   6894       5     6.894      1        80  0.725268\n",
       "3520    AZ  30015       6    30.015      1        60  0.199900\n",
       "3521    AZ  30015       5    30.015      1        60  0.166583"
      ]
     },
     "execution_count": 371,
     "metadata": {},
     "output_type": "execute_result"
    }
   ],
   "source": [
    "df.tail()"
   ]
  },
  {
   "cell_type": "code",
   "execution_count": 372,
   "metadata": {},
   "outputs": [
    {
     "data": {
      "text/plain": [
       "AZ    2118\n",
       "FL    1052\n",
       "OH     352\n",
       "Name: state, dtype: int64"
      ]
     },
     "execution_count": 372,
     "metadata": {},
     "output_type": "execute_result"
    }
   ],
   "source": [
    "df[\"state\"].value_counts()"
   ]
  },
  {
   "cell_type": "markdown",
   "metadata": {},
   "source": [
    "Transforming the state into numerical values using dummies lib "
   ]
  },
  {
   "cell_type": "code",
   "execution_count": 373,
   "metadata": {},
   "outputs": [],
   "source": [
    "transformed=pd.get_dummies(df['state'])\n",
    "df=pd.concat((df,transformed),axis=1)"
   ]
  },
  {
   "cell_type": "code",
   "execution_count": 374,
   "metadata": {},
   "outputs": [],
   "source": [
    "transformed=pd.get_dummies(df['month'])\n",
    "df=pd.concat((df,transformed),axis=1)"
   ]
  },
  {
   "cell_type": "code",
   "execution_count": 375,
   "metadata": {},
   "outputs": [],
   "source": [
    "df=df.drop(['state','month'],axis=1)"
   ]
  },
  {
   "cell_type": "code",
   "execution_count": 376,
   "metadata": {},
   "outputs": [],
   "source": [
    "\n",
    "df=df.rename(columns={5: 'May',10:'Oct',1:'Jan'})"
   ]
  },
  {
   "cell_type": "code",
   "execution_count": 377,
   "metadata": {},
   "outputs": [
    {
     "data": {
      "text/html": [
       "<div>\n",
       "<style scoped>\n",
       "    .dataframe tbody tr th:only-of-type {\n",
       "        vertical-align: middle;\n",
       "    }\n",
       "\n",
       "    .dataframe tbody tr th {\n",
       "        vertical-align: top;\n",
       "    }\n",
       "\n",
       "    .dataframe thead th {\n",
       "        text-align: right;\n",
       "    }\n",
       "</style>\n",
       "<table border=\"1\" class=\"dataframe\">\n",
       "  <thead>\n",
       "    <tr style=\"text-align: right;\">\n",
       "      <th></th>\n",
       "      <th>sqft</th>\n",
       "      <th>claims</th>\n",
       "      <th>exposure</th>\n",
       "      <th>age_bins</th>\n",
       "      <th>freq</th>\n",
       "      <th>AZ</th>\n",
       "      <th>FL</th>\n",
       "      <th>OH</th>\n",
       "      <th>Jan</th>\n",
       "      <th>May</th>\n",
       "      <th>Oct</th>\n",
       "    </tr>\n",
       "  </thead>\n",
       "  <tbody>\n",
       "    <tr>\n",
       "      <th>0</th>\n",
       "      <td>75772</td>\n",
       "      <td>5</td>\n",
       "      <td>75.772</td>\n",
       "      <td>40</td>\n",
       "      <td>0.065987</td>\n",
       "      <td>0</td>\n",
       "      <td>1</td>\n",
       "      <td>0</td>\n",
       "      <td>1</td>\n",
       "      <td>0</td>\n",
       "      <td>0</td>\n",
       "    </tr>\n",
       "    <tr>\n",
       "      <th>1</th>\n",
       "      <td>75772</td>\n",
       "      <td>4</td>\n",
       "      <td>75.772</td>\n",
       "      <td>40</td>\n",
       "      <td>0.052790</td>\n",
       "      <td>0</td>\n",
       "      <td>1</td>\n",
       "      <td>0</td>\n",
       "      <td>1</td>\n",
       "      <td>0</td>\n",
       "      <td>0</td>\n",
       "    </tr>\n",
       "    <tr>\n",
       "      <th>2</th>\n",
       "      <td>62822</td>\n",
       "      <td>1</td>\n",
       "      <td>62.822</td>\n",
       "      <td>20</td>\n",
       "      <td>0.015918</td>\n",
       "      <td>1</td>\n",
       "      <td>0</td>\n",
       "      <td>0</td>\n",
       "      <td>1</td>\n",
       "      <td>0</td>\n",
       "      <td>0</td>\n",
       "    </tr>\n",
       "    <tr>\n",
       "      <th>3</th>\n",
       "      <td>62822</td>\n",
       "      <td>4</td>\n",
       "      <td>62.822</td>\n",
       "      <td>20</td>\n",
       "      <td>0.063672</td>\n",
       "      <td>1</td>\n",
       "      <td>0</td>\n",
       "      <td>0</td>\n",
       "      <td>1</td>\n",
       "      <td>0</td>\n",
       "      <td>0</td>\n",
       "    </tr>\n",
       "    <tr>\n",
       "      <th>4</th>\n",
       "      <td>98971</td>\n",
       "      <td>7</td>\n",
       "      <td>98.971</td>\n",
       "      <td>90</td>\n",
       "      <td>0.070728</td>\n",
       "      <td>1</td>\n",
       "      <td>0</td>\n",
       "      <td>0</td>\n",
       "      <td>1</td>\n",
       "      <td>0</td>\n",
       "      <td>0</td>\n",
       "    </tr>\n",
       "  </tbody>\n",
       "</table>\n",
       "</div>"
      ],
      "text/plain": [
       "    sqft  claims  exposure  age_bins      freq  AZ  FL  OH  Jan  May  Oct\n",
       "0  75772       5    75.772        40  0.065987   0   1   0    1    0    0\n",
       "1  75772       4    75.772        40  0.052790   0   1   0    1    0    0\n",
       "2  62822       1    62.822        20  0.015918   1   0   0    1    0    0\n",
       "3  62822       4    62.822        20  0.063672   1   0   0    1    0    0\n",
       "4  98971       7    98.971        90  0.070728   1   0   0    1    0    0"
      ]
     },
     "execution_count": 377,
     "metadata": {},
     "output_type": "execute_result"
    }
   ],
   "source": [
    "df.head()"
   ]
  },
  {
   "cell_type": "markdown",
   "metadata": {},
   "source": [
    "Training only on 60% of the data and then modelling using GL stat package"
   ]
  },
  {
   "cell_type": "code",
   "execution_count": 378,
   "metadata": {},
   "outputs": [],
   "source": [
    "mask = np.random.rand(len(df)) < 0.6\n",
    "df_train = df[mask]\n",
    "df_test = df[~mask]"
   ]
  },
  {
   "cell_type": "code",
   "execution_count": 379,
   "metadata": {},
   "outputs": [
    {
     "name": "stdout",
     "output_type": "stream",
     "text": [
      "                 Generalized Linear Model Regression Results                  \n",
      "==============================================================================\n",
      "Dep. Variable:                 claims   No. Observations:                 2067\n",
      "Model:                            GLM   Df Residuals:                     2061\n",
      "Model Family:                 Poisson   Df Model:                            5\n",
      "Link Function:                    log   Scale:                          1.0000\n",
      "Method:                          IRLS   Log-Likelihood:                -5677.9\n",
      "Date:                Wed, 03 Nov 2021   Deviance:                       4768.6\n",
      "Time:                        17:31:11   Pearson chi2:                 9.11e+03\n",
      "No. Iterations:                     5                                         \n",
      "Covariance Type:            nonrobust                                         \n",
      "==============================================================================\n",
      "                 coef    std err          z      P>|z|      [0.025      0.975]\n",
      "------------------------------------------------------------------------------\n",
      "Intercept     -1.7549      0.016   -107.823      0.000      -1.787      -1.723\n",
      "FL            -0.5709      0.016    -34.885      0.000      -0.603      -0.539\n",
      "OH            -0.3473      0.021    -16.482      0.000      -0.389      -0.306\n",
      "AZ            -0.8368      0.015    -57.304      0.000      -0.865      -0.808\n",
      "age_bins       0.0096      0.000     24.556      0.000       0.009       0.010\n",
      "Jan           -0.5675      0.016    -36.526      0.000      -0.598      -0.537\n",
      "May           -0.5475      0.015    -36.034      0.000      -0.577      -0.518\n",
      "Oct           -0.6400      0.017    -36.850      0.000      -0.674      -0.606\n",
      "==============================================================================\n"
     ]
    }
   ],
   "source": [
    "expr = 'claims ~FL+OH+AZ+age_bins+Jan+May+Oct'\n",
    "#Let’s use Patsy to carve out the X and y matrices for the training and testing data sets:\n",
    "\n",
    "y_train, X_train = dmatrices(expr, df_train, return_type='dataframe')\n",
    "y_test, X_test = dmatrices(expr, df_test, return_type='dataframe')\n",
    "#Using the statsmodels GLM class, train the Poisson regression model on the training data set.\n",
    "\n",
    "poisson_training_results = sm.GLM(y_train, X_train,exposure=np.asarray(df_train['exposure']),family=sm.families.Poisson()).fit()\n",
    "print(poisson_training_results.summary())"
   ]
  },
  {
   "cell_type": "markdown",
   "metadata": {},
   "source": [
    "There are high dispersion(4711.9) and we try to reduce the no of features to avoid multicollinearity"
   ]
  },
  {
   "cell_type": "code",
   "execution_count": 380,
   "metadata": {},
   "outputs": [
    {
     "name": "stdout",
     "output_type": "stream",
     "text": [
      "                 Generalized Linear Model Regression Results                  \n",
      "==============================================================================\n",
      "Dep. Variable:                 claims   No. Observations:                 2067\n",
      "Model:                            GLM   Df Residuals:                     2061\n",
      "Model Family:                 Poisson   Df Model:                            5\n",
      "Link Function:                    log   Scale:                          1.0000\n",
      "Method:                          IRLS   Log-Likelihood:                -5677.9\n",
      "Date:                Wed, 03 Nov 2021   Deviance:                       4768.6\n",
      "Time:                        17:31:11   Pearson chi2:                 9.11e+03\n",
      "No. Iterations:                     5                                         \n",
      "Covariance Type:            nonrobust                                         \n",
      "==============================================================================\n",
      "                 coef    std err          z      P>|z|      [0.025      0.975]\n",
      "------------------------------------------------------------------------------\n",
      "Intercept     -2.6697      0.039    -69.244      0.000      -2.745      -2.594\n",
      "FL            -0.2236      0.032     -6.940      0.000      -0.287      -0.160\n",
      "AZ            -0.4895      0.030    -16.138      0.000      -0.549      -0.430\n",
      "age_bins       0.0096      0.000     24.556      0.000       0.009       0.010\n",
      "May            0.0200      0.024      0.815      0.415      -0.028       0.068\n",
      "Oct           -0.0725      0.027     -2.679      0.007      -0.126      -0.019\n",
      "==============================================================================\n"
     ]
    }
   ],
   "source": [
    "expr = 'claims ~FL+AZ+age_bins+May+Oct'\n",
    "#Let’s use Patsy to carve out the X and y matrices for the training and testing data sets:\n",
    "\n",
    "y_train, X_train = dmatrices(expr, df_train, return_type='dataframe')\n",
    "y_test, X_test = dmatrices(expr, df_test, return_type='dataframe')\n",
    "#Using the statsmodels GLM class, train the Poisson regression model on the training data set.\n",
    "\n",
    "\n",
    "poisson_training_results = sm.GLM(y_train, X_train,exposure=np.asarray(df_train['exposure']),family=sm.families.Poisson()).fit()\n",
    "print(poisson_training_results.summary())"
   ]
  },
  {
   "cell_type": "markdown",
   "metadata": {},
   "source": [
    " by reducing the features we don't see any changes in 'Deviance' and 'Log-Likelihood' but for OC p values is greater than .05"
   ]
  },
  {
   "cell_type": "code",
   "execution_count": 381,
   "metadata": {},
   "outputs": [
    {
     "name": "stdout",
     "output_type": "stream",
     "text": [
      "                 Generalized Linear Model Regression Results                  \n",
      "==============================================================================\n",
      "Dep. Variable:                 claims   No. Observations:                 2067\n",
      "Model:                            GLM   Df Residuals:                     2062\n",
      "Model Family:                 Poisson   Df Model:                            4\n",
      "Link Function:                    log   Scale:                          1.0000\n",
      "Method:                          IRLS   Log-Likelihood:                -5681.5\n",
      "Date:                Wed, 03 Nov 2021   Deviance:                       4775.8\n",
      "Time:                        17:31:12   Pearson chi2:                 9.11e+03\n",
      "No. Iterations:                     5                                         \n",
      "Covariance Type:            nonrobust                                         \n",
      "==============================================================================\n",
      "                 coef    std err          z      P>|z|      [0.025      0.975]\n",
      "------------------------------------------------------------------------------\n",
      "Intercept     -3.1896      0.030   -107.103      0.000      -3.248      -3.131\n",
      "FL             0.2647      0.023     11.271      0.000       0.219       0.311\n",
      "OH             0.4916      0.030     16.212      0.000       0.432       0.551\n",
      "age_bins       0.0096      0.000     24.549      0.000       0.009       0.010\n",
      "May            0.0507      0.022      2.332      0.020       0.008       0.093\n",
      "==============================================================================\n"
     ]
    }
   ],
   "source": [
    "expr = 'claims ~FL+OH+age_bins+May'\n",
    "#Let’s use Patsy to carve out the X and y matrices for the training and testing data sets:\n",
    "\n",
    "y_train, X_train = dmatrices(expr, df_train, return_type='dataframe')\n",
    "y_test, X_test = dmatrices(expr, df_test, return_type='dataframe')\n",
    "#Using the statsmodels GLM class, train the Poisson regression model on the training data set.\n",
    "\n",
    "poisson_training_results = sm.GLM(y_train, X_train,exposure=np.asarray(df_train['exposure']),family=sm.families.Poisson()).fit()\n",
    "print(poisson_training_results.summary())"
   ]
  },
  {
   "cell_type": "markdown",
   "metadata": {},
   "source": [
    "By trying different features \"FL,age_bins,OH\" features give optium devaiance using poission fit\n",
    "\n",
    "Now we see there is high devvaince due to high variance for which we use NegativeBinomial"
   ]
  },
  {
   "cell_type": "code",
   "execution_count": 382,
   "metadata": {},
   "outputs": [
    {
     "name": "stdout",
     "output_type": "stream",
     "text": [
      "                 Generalized Linear Model Regression Results                  \n",
      "==============================================================================\n",
      "Dep. Variable:                 claims   No. Observations:                 2067\n",
      "Model:                            GLM   Df Residuals:                     2063\n",
      "Model Family:        NegativeBinomial   Df Model:                            3\n",
      "Link Function:                    log   Scale:                          1.0000\n",
      "Method:                          IRLS   Log-Likelihood:                -5942.8\n",
      "Date:                Wed, 03 Nov 2021   Deviance:                       980.75\n",
      "Time:                        17:31:12   Pearson chi2:                 2.41e+03\n",
      "No. Iterations:                     7                                         \n",
      "Covariance Type:            nonrobust                                         \n",
      "==============================================================================\n",
      "                 coef    std err          z      P>|z|      [0.025      0.975]\n",
      "------------------------------------------------------------------------------\n",
      "Intercept     -2.8409      0.070    -40.320      0.000      -2.979      -2.703\n",
      "FL             0.2845      0.066      4.339      0.000       0.156       0.413\n",
      "age_bins       0.0105      0.001      9.983      0.000       0.008       0.013\n",
      "OH             0.5294      0.096      5.490      0.000       0.340       0.718\n",
      "==============================================================================\n"
     ]
    }
   ],
   "source": [
    "expr = 'claims ~FL+age_bins+OH'\n",
    "#Let’s use Patsy to carve out the X and y matrices for the training and testing data sets:\n",
    "\n",
    "y_train, X_train = dmatrices(expr, df_train, return_type='dataframe')\n",
    "y_test, X_test = dmatrices(expr, df_test, return_type='dataframe')\n",
    "#Using the statsmodels GLM class, train the Poisson regression model on the training data set.\n",
    "\n",
    "poisson_training_results = sm.GLM(y_train, X_train,exposure=np.asarray(df_train['exposure']), family=sm.families.NegativeBinomial(alpha = 1.5)).fit()\n",
    "print(poisson_training_results.summary())"
   ]
  },
  {
   "cell_type": "code",
   "execution_count": 383,
   "metadata": {},
   "outputs": [
    {
     "name": "stdout",
     "output_type": "stream",
     "text": [
      "          mean   mean_se  mean_ci_lower  mean_ci_upper\n",
      "0     0.118301  0.006619       0.106013       0.132012\n",
      "2     0.072083  0.003889       0.064849       0.080123\n",
      "4     0.150810  0.007917       0.136064       0.167154\n",
      "5     0.150810  0.007917       0.136064       0.167154\n",
      "9     0.080100  0.003774       0.073035       0.087848\n",
      "...        ...       ...            ...            ...\n",
      "3513  0.080100  0.003774       0.073035       0.087848\n",
      "3514  0.135715  0.006232       0.124034       0.148497\n",
      "3515  0.135715  0.006232       0.124034       0.148497\n",
      "3516  0.131458  0.007053       0.118336       0.146035\n",
      "3518  0.135715  0.006232       0.124034       0.148497\n",
      "\n",
      "[1455 rows x 4 columns]\n"
     ]
    }
   ],
   "source": [
    "poisson_predictions = poisson_training_results.get_prediction(X_test)\n",
    "#summary_frame() returns a pandas DataFrame\n",
    "predictions_summary_frame = poisson_predictions.summary_frame()\n",
    "print(predictions_summary_frame)"
   ]
  },
  {
   "cell_type": "code",
   "execution_count": 384,
   "metadata": {},
   "outputs": [],
   "source": [
    "predicted_claims=predictions_summary_frame['mean']*df_test['exposure']"
   ]
  },
  {
   "cell_type": "code",
   "execution_count": 385,
   "metadata": {},
   "outputs": [
    {
     "data": {
      "image/png": "[encoded data removed]",
      "text/plain": [
       "<Figure size 432x288 with 1 Axes>"
      ]
     },
     "metadata": {
      "needs_background": "light"
     },
     "output_type": "display_data"
    }
   ],
   "source": [
    "predicted_counts=predicted_claims\n",
    "actual_counts = y_test['claims']\n",
    "fig = plt.figure()\n",
    "predicted, = plt.plot(X_test.index[:20], predicted_counts[:20], 'go-', label='Predicted counts')\n",
    "actual, = plt.plot(X_test.index[:20], actual_counts[:20], 'ro-', label='Actual counts')\n",
    "plt.legend(handles=[predicted, actual])\n",
    "plt.show()"
   ]
  },
  {
   "cell_type": "code",
   "execution_count": 386,
   "metadata": {},
   "outputs": [],
   "source": [
    "df_train, df_test = train_test_split(df, test_size=0.33, random_state=0)"
   ]
  },
  {
   "cell_type": "code",
   "execution_count": 387,
   "metadata": {},
   "outputs": [
    {
     "data": {
      "text/plain": [
       "Pipeline(steps=[('preprocessor',\n",
       "                 ColumnTransformer(transformers=[('numeric', 'passthrough',\n",
       "                                                  ['FL', 'OH', 'age_bins'])])),\n",
       "                ('regressor', PoissonRegressor(alpha=1e-12, max_iter=300))])"
      ]
     },
     "execution_count": 387,
     "metadata": {},
     "output_type": "execute_result"
    }
   ],
   "source": [
    "from sklearn.linear_model import PoissonRegressor\n",
    "preprocessor = ColumnTransformer(\n",
    "    [\n",
    "        (\"numeric\", \"passthrough\", ['FL','OH','age_bins']),\n",
    "    ],\n",
    "    remainder=\"drop\",\n",
    ")\n",
    "n_samples = df_train.shape[0]\n",
    "\n",
    "poisson_glm = Pipeline(\n",
    "    [     (\"preprocessor\", preprocessor),\n",
    "        (\"regressor\", PoissonRegressor(alpha=1e-12, max_iter=300)),\n",
    "    ]\n",
    ")\n",
    "poisson_glm.fit(\n",
    "    df_train, df_train[\"freq\"], regressor__sample_weight=df_train[\"exposure\"]\n",
    ")"
   ]
  },
  {
   "cell_type": "code",
   "execution_count": 388,
   "metadata": {},
   "outputs": [
    {
     "name": "stdout",
     "output_type": "stream",
     "text": [
      "0.041753228026744894\n"
     ]
    }
   ],
   "source": [
    "\n",
    "from sklearn.metrics import mean_poisson_deviance\n",
    "mask = y_pred > 0\n",
    "y_pred = poisson_glm.predict(df_test)\n",
    "print(mean_poisson_deviance(\n",
    "            df_test[\"freq\"][mask],\n",
    "            y_pred[mask],\n",
    "            sample_weight=df_test[\"exposure\"][mask]))"
   ]
  },
  {
   "cell_type": "code",
   "execution_count": 389,
   "metadata": {},
   "outputs": [
    {
     "data": {
      "text/plain": [
       "Pipeline(steps=[('preprocessor',\n",
       "                 ColumnTransformer(transformers=[('numeric', 'passthrough',\n",
       "                                                  ['FL', 'OH', 'age_bins'])])),\n",
       "                ('regressor',\n",
       "                 HistGradientBoostingRegressor(loss='poisson',\n",
       "                                               max_leaf_nodes=150))])"
      ]
     },
     "execution_count": 389,
     "metadata": {},
     "output_type": "execute_result"
    }
   ],
   "source": [
    "from sklearn.experimental import enable_hist_gradient_boosting\n",
    "from sklearn.ensemble import HistGradientBoostingRegressor\n",
    "from sklearn.preprocessing import OrdinalEncoder\n",
    "\n",
    "\n",
    "poisson_gbrt = Pipeline(\n",
    "    [\n",
    "        (\"preprocessor\", preprocessor),\n",
    "        (\n",
    "            \"regressor\",\n",
    "            HistGradientBoostingRegressor(loss=\"poisson\", max_leaf_nodes=150),\n",
    "        ),\n",
    "    ]\n",
    ")\n",
    "poisson_gbrt.fit(\n",
    "    df_train, df_train[\"freq\"], regressor__sample_weight=df_train[\"exposure\"]\n",
    ")"
   ]
  },
  {
   "cell_type": "code",
   "execution_count": 390,
   "metadata": {},
   "outputs": [
    {
     "name": "stdout",
     "output_type": "stream",
     "text": [
      "0.041965540901764825\n"
     ]
    }
   ],
   "source": [
    "\n",
    "mask = y_pred > 0\n",
    "y_pred = poisson_gbrt.predict(df_test)\n",
    "print(mean_poisson_deviance(\n",
    "            df_test[\"freq\"][mask],\n",
    "            y_pred[mask],\n",
    "            sample_weight=df_test[\"exposure\"][mask]))"
   ]
  },
  {
   "cell_type": "markdown",
   "metadata": {},
   "source": [
    "Reference for below code \"https://scikit-learn.org/stable/auto_examples/linear_model/plot_poisson_regression_non_normal_loss.html#sphx-glr-auto-examples-linear-model-plot-poisson-regression-non-normal-loss-py\""
   ]
  },
  {
   "cell_type": "code",
   "execution_count": 391,
   "metadata": {},
   "outputs": [
    {
     "name": "stdout",
     "output_type": "stream",
     "text": [
      "Actual number of claims: 5079\n",
      "Predicted number of claims by PoissonRegressor(alpha=1e-12, max_iter=300): 5158.7\n",
      "Predicted number of claims by HistGradientBoostingRegressor(loss='poisson', max_leaf_nodes=150): 5121.5\n"
     ]
    },
    {
     "data": {
      "image/png": "[encoded data removed]",
      "text/plain": [
       "<Figure size 864x576 with 2 Axes>"
      ]
     },
     "metadata": {
      "needs_background": "light"
     },
     "output_type": "display_data"
    }
   ],
   "source": [
    "from sklearn.utils import gen_even_slices\n",
    "\n",
    "\n",
    "def _mean_frequency_by_risk_group(y_true, y_pred, sample_weight=None, n_bins=100):\n",
    "    \"\"\"Compare predictions and observations for bins ordered by y_pred.\n",
    "\n",
    "    We order the samples by ``y_pred`` and split it in bins.\n",
    "    In each bin the observed mean is compared with the predicted mean.\n",
    "\n",
    "    Parameters\n",
    "    ----------\n",
    "    y_true: array-like of shape (n_samples,)\n",
    "        Ground truth (correct) target values.\n",
    "    y_pred: array-like of shape (n_samples,)\n",
    "        Estimated target values.\n",
    "    sample_weight : array-like of shape (n_samples,)\n",
    "        Sample weights.\n",
    "    n_bins: int\n",
    "        Number of bins to use.\n",
    "\n",
    "    Returns\n",
    "    -------\n",
    "    bin_centers: ndarray of shape (n_bins,)\n",
    "        bin centers\n",
    "    y_true_bin: ndarray of shape (n_bins,)\n",
    "           average y_pred for each bin\n",
    "    y_pred_bin: ndarray of shape (n_bins,)\n",
    "        average y_pred for each bin\n",
    "    \"\"\"\n",
    "    idx_sort = np.argsort(y_pred)\n",
    "    bin_centers = np.arange(0, 1, 1 / n_bins) + 0.5 / n_bins\n",
    "    y_pred_bin = np.zeros(n_bins)\n",
    "    y_true_bin = np.zeros(n_bins)\n",
    "\n",
    "    for n, sl in enumerate(gen_even_slices(len(y_true), n_bins)):\n",
    "        weights = sample_weight[idx_sort][sl]\n",
    "        y_pred_bin[n] = np.average(y_pred[idx_sort][sl], weights=weights)\n",
    "        y_true_bin[n] = np.average(y_true[idx_sort][sl], weights=weights)\n",
    "    return bin_centers, y_true_bin, y_pred_bin\n",
    "\n",
    "\n",
    "print(f\"Actual number of claims: {df_test['claims'].sum()}\")\n",
    "fig, ax = plt.subplots(nrows=1, ncols=2, figsize=(12, 8))\n",
    "plt.subplots_adjust(wspace=0.3)\n",
    "\n",
    "for axi, model in zip(ax.ravel(), [poisson_glm,poisson_gbrt]):\n",
    "    y_pred = model.predict(df_test)\n",
    "    y_true = df_test[\"freq\"].values\n",
    "    exposure = df_test[\"exposure\"].values\n",
    "    q, y_true_seg, y_pred_seg = _mean_frequency_by_risk_group(\n",
    "        y_true, y_pred, sample_weight=exposure, n_bins=10\n",
    "    )\n",
    "\n",
    "    # Name of the model after the estimator used in the last step of the\n",
    "    # pipeline.\n",
    "    print(f\"Predicted number of claims by {model[-1]}: {np.sum(y_pred * exposure):.1f}\")\n",
    "\n",
    "    axi.plot(q, y_pred_seg, marker=\"x\", linestyle=\"--\", label=\"predictions\")\n",
    "    axi.plot(q, y_true_seg, marker=\"o\", linestyle=\"--\", label=\"observations\")\n",
    "    axi.set_xlim(0, 1.0)\n",
    "    axi.set_ylim(0, 0.5)\n",
    "    axi.set(\n",
    "         title=model[-1],\n",
    "        xlabel=\"Fraction of samples sorted by y_pred\",\n",
    "        ylabel=\"Mean Frequency (y_pred)\",\n",
    "    )\n",
    "    axi.legend()\n",
    "plt.tight_layout()"
   ]
  },
  {
   "cell_type": "code",
   "execution_count": 392,
   "metadata": {},
   "outputs": [],
   "source": [
    "import pickle\n",
    " \n",
    "# Load the pickled model\n",
    "# Save the Modle to file in the current working directory\n",
    "\n",
    "Pkl_Filename = \"Poisson_Model.pkl\"  \n",
    "\n",
    "with open(Pkl_Filename, 'wb') as file:  \n",
    "    pickle.dump(poisson_gbrt, file)"
   ]
  },
  {
   "cell_type": "code",
   "execution_count": null,
   "metadata": {},
   "outputs": [],
   "source": []
  }
 ],
 "metadata": {
  "kernelspec": {
   "display_name": "Python 3",
   "language": "python",
   "name": "python3"
  },
  "language_info": {
   "codemirror_mode": {
    "name": "ipython",
    "version": 3
   },
   "file_extension": ".py",
   "mimetype": "text/x-python",
   "name": "python",
   "nbconvert_exporter": "python",
   "pygments_lexer": "ipython3",
   "version": "3.6.5"
  }
 },
 "nbformat": 4,
 "nbformat_minor": 2
}
